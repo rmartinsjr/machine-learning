{
 "cells": [
  {
   "cell_type": "markdown",
   "metadata": {},
   "source": [
    "# Machine Learning Engineer Nanodegree\n",
    "\n",
    "## Capstone Project\n",
    "\n",
    "Roberto Pinto Martins Junior\n",
    "March 23th, 2018\n",
    "\n",
    "---"
   ]
  },
  {
   "cell_type": "markdown",
   "metadata": {},
   "source": [
    "## I. Definition"
   ]
  },
  {
   "cell_type": "markdown",
   "metadata": {},
   "source": [
    "### Project Overview\n",
    "Access to credit is important for market economies to develop and flourish, having a big impact on companies and people lives. Banks and financial institutions play an important role in the market, defining who is going to have access to credit.\n",
    "\n",
    "Money is a limited resource and financial institutions try to evaluate the risks using methods to guess the probability of default and then decide whether or not a loan should be granted. One of these methods is credit scoring which assigns a score to the borrower - it helps the bank evaluate the risk of default and compute interest rates. Using this score, a bank may also assign some credit score category or band, such as bad, poor, fair, good or  excellent.\n",
    "\n",
    "There has been an increase in the interest for machine learning models in credit risk and scoring, as observed in this [paper][1]  from Moody's, the risk analysis agency. It has also become a business where you can build models: [GiniMachine][2].\n",
    "\n",
    "This project is based on Kaggle competition [\"Give Me Some Credit\"][3] and the dataset was provided along with the metrics used to rank the submissions. This project will follow the same metrics and requirements and add some.\n",
    "\n",
    "[1]: https://www.moodysanalytics.com/risk-perspectives-magazine/managing-disruption/spotlight/machine-learning-challenges-lessons-and-opportunities-in-credit-risk-modeling \"Machine Learning: Challenges, Lessons and Opportunities in Credit Risk Modeling\"\n",
    "[2]: https://ginimachine.com \"GiniMachine.com\"\n",
    "[3]: https://www.kaggle.com/c/GiveMeSomeCredit \"Give Me Some Credit\""
   ]
  },
  {
   "cell_type": "markdown",
   "metadata": {},
   "source": [
    "### Problem Statement\n",
    "The goal is to create a model that predicts borrowers' credit score so the bank will be able to determine the likelihood of a default and then compute the interest rate for the loan. In this binary classification problem, the model will classify if the potential borrower will experience a 90+ day past due delinquency, but will also output the probability of the classification, as required by the competition. This model may also be used by borrowers to help them make the best financial decisions.\n",
    "\n",
    "Using machine learning to solve this proble will involve the following tasks:\n",
    "1. Load the dataset\n",
    "2. Explore and visualize the data, trying to better understand it\n",
    "3. Prepare the dataset to be processed, handle missing information, scale and encode features, if needed.\n",
    "4. Split the dataset into training and test sets\n",
    "5. Train some classifiers\n",
    "6. Evaluate the performance in the test set using appropriate metrics\n",
    "7. Select the best classifier and fine tune its hyperparameters"
   ]
  },
  {
   "cell_type": "markdown",
   "metadata": {},
   "source": [
    "### Metrics\n",
    "Evaluation of the models will be based on the requirements of the Kaggle competition: area under curve (AUC); after computing the receiving operating characteristic (ROC) and therefore, the closer the classifier gets to 1.0, the better. Using this metric, it’s possible to plot the coordinates created by false positive rate and true positive rate. The closer the area under the curve gets to a square, the better.\n",
    "\n",
    "Additionally, it's also going to consider the F-beta score for model evaluation, considering it's the kind of problem in which recall is important. This importance is crucial to the bank or credit institution, which need to correctly classify bad payers and thus avoiding giving credit to someone who is going to be late or not paying at all. Therefore the model must show a high rate of correctly classified bad payers over all the borrowers who previously experienced credit delinquency. \n",
    "\n",
    "\n",
    "---"
   ]
  },
  {
   "cell_type": "markdown",
   "metadata": {},
   "source": [
    "## II. Analysis"
   ]
  },
  {
   "cell_type": "markdown",
   "metadata": {},
   "source": [
    "### Data Exploration\n",
    "This project dataset contains financial and credit information from 251,503 anonymous individuals, already divided in 150,000 records for training and 101.503 for testing, although this test set is meant to be used when submitting the results to the competition.\n",
    "\n",
    "_Table 1. Data dictionary_\n",
    "\n",
    "| Variable | Description | Type |\n",
    "| :--- | :--- | :---: |\n",
    "| **SeriousDlqin2yrs** | Person experienced 90 days past due delinquency or worse | Y/N |\n",
    "| RevolvingUtilizationOfUnsecuredLines | Total balance on credit cards and personal lines of credit except real estate and no installment debt like car loans divided by the sum of credit limits | percentage |\n",
    "| age | Age of borrower in years | integer |\n",
    "| NumberOfTime30-59DaysPastDueNotWorse | Number of times borrower has been 30-59 days past due but no worse in the last 2 years | integer |\n",
    "| DebtRatio | Monthly debt payments, alimony,living costs divided by monthly gross income | percentage |\n",
    "| MonthlyIncome | Monthly income | real |\n",
    "| NumberOfOpenCreditLinesAndLoans | Number of Open loans (installment like car loan or mortgage) and Lines of credit (e.g. credit cards) | integer |\n",
    "| NumberOfTimes90DaysLate | Number of times borrower has been 90 days or more past due | integer |\n",
    "| NumberRealEstateLoansOrLines | Number of mortgage and real estate loans including home equity lines of credit | integer |\n",
    "| NumberOfTime60-89DaysPastDueNotWorse | Number of times borrower has been 60-89 days past due but no worse in the last 2 years | integer |\n",
    "| NumberOfDependents | Number of dependents in family excluding themselves (spouse, children etc.) | integer |"
   ]
  },
  {
   "cell_type": "code",
   "execution_count": 1,
   "metadata": {},
   "outputs": [
    {
     "data": {
      "text/markdown": [
       "_Table 2. Sampling first 5 rows of the dataset_"
      ],
      "text/plain": [
       "<IPython.core.display.Markdown object>"
      ]
     },
     "metadata": {},
     "output_type": "display_data"
    },
    {
     "data": {
      "text/html": [
       "<div>\n",
       "<style>\n",
       "    .dataframe thead tr:only-child th {\n",
       "        text-align: right;\n",
       "    }\n",
       "\n",
       "    .dataframe thead th {\n",
       "        text-align: left;\n",
       "    }\n",
       "\n",
       "    .dataframe tbody tr th {\n",
       "        vertical-align: top;\n",
       "    }\n",
       "</style>\n",
       "<table border=\"1\" class=\"dataframe\">\n",
       "  <thead>\n",
       "    <tr style=\"text-align: right;\">\n",
       "      <th></th>\n",
       "      <th>SeriousDlqin2yrs</th>\n",
       "      <th>RevolvingUtilizationOfUnsecuredLines</th>\n",
       "      <th>age</th>\n",
       "      <th>NumberOfTime30-59DaysPastDueNotWorse</th>\n",
       "      <th>DebtRatio</th>\n",
       "      <th>MonthlyIncome</th>\n",
       "      <th>NumberOfOpenCreditLinesAndLoans</th>\n",
       "      <th>NumberOfTimes90DaysLate</th>\n",
       "      <th>NumberRealEstateLoansOrLines</th>\n",
       "      <th>NumberOfTime60-89DaysPastDueNotWorse</th>\n",
       "      <th>NumberOfDependents</th>\n",
       "    </tr>\n",
       "  </thead>\n",
       "  <tbody>\n",
       "    <tr>\n",
       "      <th>1</th>\n",
       "      <td>1</td>\n",
       "      <td>0.766127</td>\n",
       "      <td>45</td>\n",
       "      <td>2</td>\n",
       "      <td>0.802982</td>\n",
       "      <td>9120.0</td>\n",
       "      <td>13</td>\n",
       "      <td>0</td>\n",
       "      <td>6</td>\n",
       "      <td>0</td>\n",
       "      <td>2.0</td>\n",
       "    </tr>\n",
       "    <tr>\n",
       "      <th>2</th>\n",
       "      <td>0</td>\n",
       "      <td>0.957151</td>\n",
       "      <td>40</td>\n",
       "      <td>0</td>\n",
       "      <td>0.121876</td>\n",
       "      <td>2600.0</td>\n",
       "      <td>4</td>\n",
       "      <td>0</td>\n",
       "      <td>0</td>\n",
       "      <td>0</td>\n",
       "      <td>1.0</td>\n",
       "    </tr>\n",
       "    <tr>\n",
       "      <th>3</th>\n",
       "      <td>0</td>\n",
       "      <td>0.658180</td>\n",
       "      <td>38</td>\n",
       "      <td>1</td>\n",
       "      <td>0.085113</td>\n",
       "      <td>3042.0</td>\n",
       "      <td>2</td>\n",
       "      <td>1</td>\n",
       "      <td>0</td>\n",
       "      <td>0</td>\n",
       "      <td>0.0</td>\n",
       "    </tr>\n",
       "    <tr>\n",
       "      <th>4</th>\n",
       "      <td>0</td>\n",
       "      <td>0.233810</td>\n",
       "      <td>30</td>\n",
       "      <td>0</td>\n",
       "      <td>0.036050</td>\n",
       "      <td>3300.0</td>\n",
       "      <td>5</td>\n",
       "      <td>0</td>\n",
       "      <td>0</td>\n",
       "      <td>0</td>\n",
       "      <td>0.0</td>\n",
       "    </tr>\n",
       "    <tr>\n",
       "      <th>5</th>\n",
       "      <td>0</td>\n",
       "      <td>0.907239</td>\n",
       "      <td>49</td>\n",
       "      <td>1</td>\n",
       "      <td>0.024926</td>\n",
       "      <td>63588.0</td>\n",
       "      <td>7</td>\n",
       "      <td>0</td>\n",
       "      <td>1</td>\n",
       "      <td>0</td>\n",
       "      <td>0.0</td>\n",
       "    </tr>\n",
       "  </tbody>\n",
       "</table>\n",
       "</div>"
      ],
      "text/plain": [
       "   SeriousDlqin2yrs  RevolvingUtilizationOfUnsecuredLines  age  \\\n",
       "1                 1                              0.766127   45   \n",
       "2                 0                              0.957151   40   \n",
       "3                 0                              0.658180   38   \n",
       "4                 0                              0.233810   30   \n",
       "5                 0                              0.907239   49   \n",
       "\n",
       "   NumberOfTime30-59DaysPastDueNotWorse  DebtRatio  MonthlyIncome  \\\n",
       "1                                     2   0.802982         9120.0   \n",
       "2                                     0   0.121876         2600.0   \n",
       "3                                     1   0.085113         3042.0   \n",
       "4                                     0   0.036050         3300.0   \n",
       "5                                     1   0.024926        63588.0   \n",
       "\n",
       "   NumberOfOpenCreditLinesAndLoans  NumberOfTimes90DaysLate  \\\n",
       "1                               13                        0   \n",
       "2                                4                        0   \n",
       "3                                2                        1   \n",
       "4                                5                        0   \n",
       "5                                7                        0   \n",
       "\n",
       "   NumberRealEstateLoansOrLines  NumberOfTime60-89DaysPastDueNotWorse  \\\n",
       "1                             6                                     0   \n",
       "2                             0                                     0   \n",
       "3                             0                                     0   \n",
       "4                             0                                     0   \n",
       "5                             1                                     0   \n",
       "\n",
       "   NumberOfDependents  \n",
       "1                 2.0  \n",
       "2                 1.0  \n",
       "3                 0.0  \n",
       "4                 0.0  \n",
       "5                 0.0  "
      ]
     },
     "metadata": {},
     "output_type": "display_data"
    },
    {
     "name": "stdout",
     "output_type": "stream",
     "text": [
      "* Credit dataset has 150000 samples with 11 features each.\n"
     ]
    }
   ],
   "source": [
    "# Import libraries necessary for this project\n",
    "import numpy as np\n",
    "import pandas as pd\n",
    "from IPython.display import display, Markdown\n",
    "\n",
    "# Pretty display for notebooks\n",
    "%matplotlib inline\n",
    "\n",
    "# Load the dataset\n",
    "try:\n",
    "    csTraining = pd.read_csv(\"dataset/cs-training.csv\", index_col = 0)\n",
    "    display(Markdown(\"_Table 2. Sampling first 5 rows of the dataset_\"))\n",
    "    display(csTraining.head(5))\n",
    "    print \"* Credit dataset has {} samples with {} features each.\".format(*csTraining.shape)\n",
    "except:\n",
    "    print \"Dataset could not be loaded. Is the dataset missing?\""
   ]
  },
  {
   "cell_type": "markdown",
   "metadata": {},
   "source": [
    "#### Statistics\n",
    "\n",
    "Now that the dataset is loaded, statistical information is presented:"
   ]
  },
  {
   "cell_type": "code",
   "execution_count": 2,
   "metadata": {},
   "outputs": [
    {
     "data": {
      "text/markdown": [
       "_Table 3. Statistical information: central tendency, dispersion and shape_"
      ],
      "text/plain": [
       "<IPython.core.display.Markdown object>"
      ]
     },
     "metadata": {},
     "output_type": "display_data"
    },
    {
     "data": {
      "text/html": [
       "<div>\n",
       "<style>\n",
       "    .dataframe thead tr:only-child th {\n",
       "        text-align: right;\n",
       "    }\n",
       "\n",
       "    .dataframe thead th {\n",
       "        text-align: left;\n",
       "    }\n",
       "\n",
       "    .dataframe tbody tr th {\n",
       "        vertical-align: top;\n",
       "    }\n",
       "</style>\n",
       "<table border=\"1\" class=\"dataframe\">\n",
       "  <thead>\n",
       "    <tr style=\"text-align: right;\">\n",
       "      <th></th>\n",
       "      <th>SeriousDlqin2yrs</th>\n",
       "      <th>RevolvingUtilizationOfUnsecuredLines</th>\n",
       "      <th>age</th>\n",
       "      <th>NumberOfTime30-59DaysPastDueNotWorse</th>\n",
       "      <th>DebtRatio</th>\n",
       "      <th>MonthlyIncome</th>\n",
       "      <th>NumberOfOpenCreditLinesAndLoans</th>\n",
       "      <th>NumberOfTimes90DaysLate</th>\n",
       "      <th>NumberRealEstateLoansOrLines</th>\n",
       "      <th>NumberOfTime60-89DaysPastDueNotWorse</th>\n",
       "      <th>NumberOfDependents</th>\n",
       "    </tr>\n",
       "  </thead>\n",
       "  <tbody>\n",
       "    <tr>\n",
       "      <th>count</th>\n",
       "      <td>150000.000000</td>\n",
       "      <td>150000.000000</td>\n",
       "      <td>150000.000000</td>\n",
       "      <td>150000.000000</td>\n",
       "      <td>150000.000000</td>\n",
       "      <td>1.202690e+05</td>\n",
       "      <td>150000.000000</td>\n",
       "      <td>150000.000000</td>\n",
       "      <td>150000.000000</td>\n",
       "      <td>150000.000000</td>\n",
       "      <td>146076.000000</td>\n",
       "    </tr>\n",
       "    <tr>\n",
       "      <th>mean</th>\n",
       "      <td>0.066840</td>\n",
       "      <td>6.048438</td>\n",
       "      <td>52.295207</td>\n",
       "      <td>0.421033</td>\n",
       "      <td>353.005076</td>\n",
       "      <td>6.670221e+03</td>\n",
       "      <td>8.452760</td>\n",
       "      <td>0.265973</td>\n",
       "      <td>1.018240</td>\n",
       "      <td>0.240387</td>\n",
       "      <td>0.757222</td>\n",
       "    </tr>\n",
       "    <tr>\n",
       "      <th>std</th>\n",
       "      <td>0.249746</td>\n",
       "      <td>249.755371</td>\n",
       "      <td>14.771866</td>\n",
       "      <td>4.192781</td>\n",
       "      <td>2037.818523</td>\n",
       "      <td>1.438467e+04</td>\n",
       "      <td>5.145951</td>\n",
       "      <td>4.169304</td>\n",
       "      <td>1.129771</td>\n",
       "      <td>4.155179</td>\n",
       "      <td>1.115086</td>\n",
       "    </tr>\n",
       "    <tr>\n",
       "      <th>min</th>\n",
       "      <td>0.000000</td>\n",
       "      <td>0.000000</td>\n",
       "      <td>0.000000</td>\n",
       "      <td>0.000000</td>\n",
       "      <td>0.000000</td>\n",
       "      <td>0.000000e+00</td>\n",
       "      <td>0.000000</td>\n",
       "      <td>0.000000</td>\n",
       "      <td>0.000000</td>\n",
       "      <td>0.000000</td>\n",
       "      <td>0.000000</td>\n",
       "    </tr>\n",
       "    <tr>\n",
       "      <th>25%</th>\n",
       "      <td>0.000000</td>\n",
       "      <td>0.029867</td>\n",
       "      <td>41.000000</td>\n",
       "      <td>0.000000</td>\n",
       "      <td>0.175074</td>\n",
       "      <td>3.400000e+03</td>\n",
       "      <td>5.000000</td>\n",
       "      <td>0.000000</td>\n",
       "      <td>0.000000</td>\n",
       "      <td>0.000000</td>\n",
       "      <td>0.000000</td>\n",
       "    </tr>\n",
       "    <tr>\n",
       "      <th>50%</th>\n",
       "      <td>0.000000</td>\n",
       "      <td>0.154181</td>\n",
       "      <td>52.000000</td>\n",
       "      <td>0.000000</td>\n",
       "      <td>0.366508</td>\n",
       "      <td>5.400000e+03</td>\n",
       "      <td>8.000000</td>\n",
       "      <td>0.000000</td>\n",
       "      <td>1.000000</td>\n",
       "      <td>0.000000</td>\n",
       "      <td>0.000000</td>\n",
       "    </tr>\n",
       "    <tr>\n",
       "      <th>75%</th>\n",
       "      <td>0.000000</td>\n",
       "      <td>0.559046</td>\n",
       "      <td>63.000000</td>\n",
       "      <td>0.000000</td>\n",
       "      <td>0.868254</td>\n",
       "      <td>8.249000e+03</td>\n",
       "      <td>11.000000</td>\n",
       "      <td>0.000000</td>\n",
       "      <td>2.000000</td>\n",
       "      <td>0.000000</td>\n",
       "      <td>1.000000</td>\n",
       "    </tr>\n",
       "    <tr>\n",
       "      <th>max</th>\n",
       "      <td>1.000000</td>\n",
       "      <td>50708.000000</td>\n",
       "      <td>109.000000</td>\n",
       "      <td>98.000000</td>\n",
       "      <td>329664.000000</td>\n",
       "      <td>3.008750e+06</td>\n",
       "      <td>58.000000</td>\n",
       "      <td>98.000000</td>\n",
       "      <td>54.000000</td>\n",
       "      <td>98.000000</td>\n",
       "      <td>20.000000</td>\n",
       "    </tr>\n",
       "  </tbody>\n",
       "</table>\n",
       "</div>"
      ],
      "text/plain": [
       "       SeriousDlqin2yrs  RevolvingUtilizationOfUnsecuredLines            age  \\\n",
       "count     150000.000000                         150000.000000  150000.000000   \n",
       "mean           0.066840                              6.048438      52.295207   \n",
       "std            0.249746                            249.755371      14.771866   \n",
       "min            0.000000                              0.000000       0.000000   \n",
       "25%            0.000000                              0.029867      41.000000   \n",
       "50%            0.000000                              0.154181      52.000000   \n",
       "75%            0.000000                              0.559046      63.000000   \n",
       "max            1.000000                          50708.000000     109.000000   \n",
       "\n",
       "       NumberOfTime30-59DaysPastDueNotWorse      DebtRatio  MonthlyIncome  \\\n",
       "count                         150000.000000  150000.000000   1.202690e+05   \n",
       "mean                               0.421033     353.005076   6.670221e+03   \n",
       "std                                4.192781    2037.818523   1.438467e+04   \n",
       "min                                0.000000       0.000000   0.000000e+00   \n",
       "25%                                0.000000       0.175074   3.400000e+03   \n",
       "50%                                0.000000       0.366508   5.400000e+03   \n",
       "75%                                0.000000       0.868254   8.249000e+03   \n",
       "max                               98.000000  329664.000000   3.008750e+06   \n",
       "\n",
       "       NumberOfOpenCreditLinesAndLoans  NumberOfTimes90DaysLate  \\\n",
       "count                    150000.000000            150000.000000   \n",
       "mean                          8.452760                 0.265973   \n",
       "std                           5.145951                 4.169304   \n",
       "min                           0.000000                 0.000000   \n",
       "25%                           5.000000                 0.000000   \n",
       "50%                           8.000000                 0.000000   \n",
       "75%                          11.000000                 0.000000   \n",
       "max                          58.000000                98.000000   \n",
       "\n",
       "       NumberRealEstateLoansOrLines  NumberOfTime60-89DaysPastDueNotWorse  \\\n",
       "count                 150000.000000                         150000.000000   \n",
       "mean                       1.018240                              0.240387   \n",
       "std                        1.129771                              4.155179   \n",
       "min                        0.000000                              0.000000   \n",
       "25%                        0.000000                              0.000000   \n",
       "50%                        1.000000                              0.000000   \n",
       "75%                        2.000000                              0.000000   \n",
       "max                       54.000000                             98.000000   \n",
       "\n",
       "       NumberOfDependents  \n",
       "count       146076.000000  \n",
       "mean             0.757222  \n",
       "std              1.115086  \n",
       "min              0.000000  \n",
       "25%              0.000000  \n",
       "50%              0.000000  \n",
       "75%              1.000000  \n",
       "max             20.000000  "
      ]
     },
     "metadata": {},
     "output_type": "display_data"
    }
   ],
   "source": [
    "display(Markdown(\"_Table 3. Statistical information: central tendency, dispersion and shape_\"))\n",
    "display(csTraining.describe())"
   ]
  },
  {
   "cell_type": "markdown",
   "metadata": {},
   "source": [
    "Performing a quick exploration of the dataset, it was observed to be definitively an unbalanced one. \n",
    "Some features are sparse, most notably our target class __SeriousDlqin2yrs__. In this class, individuals who experienced credit distress account for only 6.684% (10,026) of our samples.\n",
    "\n",
    "This adds some serious implications to the model, even though predicting that SeriousDlqin2yrs is always 0 (zero), it might achieve high precision."
   ]
  },
  {
   "cell_type": "code",
   "execution_count": 3,
   "metadata": {},
   "outputs": [
    {
     "name": "stdout",
     "output_type": "stream",
     "text": [
      "Samples in serious credit delinquency: 10026\n",
      "Percentage of delinquency: 6.684%\n",
      "False positives in naive assumption: 0\n",
      "True positives in naive assumption: 0\n",
      "False negatives in naive assumption: 10026\n",
      "True negatives in naive assumption: 139974\n",
      "Accuracy in naive assumption: 93.316%\n",
      "Precision in naive assumption: 0.000%\n",
      "Recall in naive assumption: 0.000%\n"
     ]
    }
   ],
   "source": [
    "# Counting SeriousDlqin2yrs \"1\" value\n",
    "def showNaiveMetrics(data):\n",
    "    \"\"\"\n",
    "    Show some metrics of the dataset when considering the naive assumption,\n",
    "    such as: true positives, true negatives, false positives, false negatives,\n",
    "    precision, accuracy and recall.\n",
    "    \"\"\"\n",
    "    delinquencyCount = data.SeriousDlqin2yrs[data.SeriousDlqin2yrs == 1].count()\n",
    "    delinquencyRatio = float(delinquencyCount) / data.SeriousDlqin2yrs.count()\n",
    "    totalPopulation = data.SeriousDlqin2yrs.count()\n",
    "\n",
    "    naive_FP = 0\n",
    "    naive_TP = 0\n",
    "    naive_FN = delinquencyCount\n",
    "    naive_TN = data.SeriousDlqin2yrs[data.SeriousDlqin2yrs == 0].count() \n",
    "    naive_Accuracy = float(naive_TP + naive_TN) / totalPopulation\n",
    "    naive_Precision = 0 # to avoid division by zero\n",
    "    naive_Recall = float(naive_TP) / (naive_TP + naive_FN)\n",
    "\n",
    "    print \"Samples in serious credit delinquency: {}\".format(delinquencyCount)\n",
    "    print \"Percentage of delinquency: {}%\".format(delinquencyRatio * 100.0)\n",
    "    print \"False positives in naive assumption: {}\".format(naive_FP)\n",
    "    print \"True positives in naive assumption: {}\".format(naive_TP)\n",
    "    print \"False negatives in naive assumption: {}\".format(naive_FN)\n",
    "    print \"True negatives in naive assumption: {}\".format(naive_TN)\n",
    "    print \"Accuracy in naive assumption: {0:.3f}%\".format(naive_Accuracy * 100.0)\n",
    "    print \"Precision in naive assumption: {0:.3f}%\".format(naive_Precision * 100.0)\n",
    "    print \"Recall in naive assumption: {0:.3f}%\".format(naive_Recall * 100.0)\n",
    "    \n",
    "showNaiveMetrics(csTraining)"
   ]
  },
  {
   "cell_type": "markdown",
   "metadata": {},
   "source": [
    "If we consider that our model predicts that everybody has good credit (SeriousDlqin2yrs = 0), our model will still present an astonishing accuracy of 93.316% while increasing the credit risk for the financial institution.\n",
    "\n",
    "$$Accuracy_{(naive)} = { true\\ positives + true\\ negatives \\over total\\ population} = {0 + 139,974 \\over 150,000} = 93.316\\%$$"
   ]
  },
  {
   "cell_type": "markdown",
   "metadata": {},
   "source": [
    "---\n",
    "It was also observed some missing values, as shown below as NaN."
   ]
  },
  {
   "cell_type": "code",
   "execution_count": 4,
   "metadata": {},
   "outputs": [
    {
     "data": {
      "text/markdown": [
       "_Table 4. Samples with missing values_"
      ],
      "text/plain": [
       "<IPython.core.display.Markdown object>"
      ]
     },
     "metadata": {},
     "output_type": "display_data"
    },
    {
     "data": {
      "text/html": [
       "<div>\n",
       "<style>\n",
       "    .dataframe thead tr:only-child th {\n",
       "        text-align: right;\n",
       "    }\n",
       "\n",
       "    .dataframe thead th {\n",
       "        text-align: left;\n",
       "    }\n",
       "\n",
       "    .dataframe tbody tr th {\n",
       "        vertical-align: top;\n",
       "    }\n",
       "</style>\n",
       "<table border=\"1\" class=\"dataframe\">\n",
       "  <thead>\n",
       "    <tr style=\"text-align: right;\">\n",
       "      <th></th>\n",
       "      <th>SeriousDlqin2yrs</th>\n",
       "      <th>RevolvingUtilizationOfUnsecuredLines</th>\n",
       "      <th>age</th>\n",
       "      <th>NumberOfTime30-59DaysPastDueNotWorse</th>\n",
       "      <th>DebtRatio</th>\n",
       "      <th>MonthlyIncome</th>\n",
       "      <th>NumberOfOpenCreditLinesAndLoans</th>\n",
       "      <th>NumberOfTimes90DaysLate</th>\n",
       "      <th>NumberRealEstateLoansOrLines</th>\n",
       "      <th>NumberOfTime60-89DaysPastDueNotWorse</th>\n",
       "      <th>NumberOfDependents</th>\n",
       "    </tr>\n",
       "  </thead>\n",
       "  <tbody>\n",
       "    <tr>\n",
       "      <th>9220</th>\n",
       "      <td>0</td>\n",
       "      <td>0.095339</td>\n",
       "      <td>62</td>\n",
       "      <td>0</td>\n",
       "      <td>2504.0</td>\n",
       "      <td>NaN</td>\n",
       "      <td>11</td>\n",
       "      <td>0</td>\n",
       "      <td>1</td>\n",
       "      <td>0</td>\n",
       "      <td>0.0</td>\n",
       "    </tr>\n",
       "    <tr>\n",
       "      <th>9236</th>\n",
       "      <td>1</td>\n",
       "      <td>1.000000</td>\n",
       "      <td>37</td>\n",
       "      <td>0</td>\n",
       "      <td>220.0</td>\n",
       "      <td>NaN</td>\n",
       "      <td>1</td>\n",
       "      <td>2</td>\n",
       "      <td>0</td>\n",
       "      <td>0</td>\n",
       "      <td>0.0</td>\n",
       "    </tr>\n",
       "    <tr>\n",
       "      <th>71995</th>\n",
       "      <td>0</td>\n",
       "      <td>0.002049</td>\n",
       "      <td>80</td>\n",
       "      <td>0</td>\n",
       "      <td>4128.0</td>\n",
       "      <td>NaN</td>\n",
       "      <td>11</td>\n",
       "      <td>0</td>\n",
       "      <td>2</td>\n",
       "      <td>0</td>\n",
       "      <td>NaN</td>\n",
       "    </tr>\n",
       "    <tr>\n",
       "      <th>80512</th>\n",
       "      <td>0</td>\n",
       "      <td>1.000000</td>\n",
       "      <td>49</td>\n",
       "      <td>0</td>\n",
       "      <td>806.0</td>\n",
       "      <td>NaN</td>\n",
       "      <td>2</td>\n",
       "      <td>0</td>\n",
       "      <td>0</td>\n",
       "      <td>0</td>\n",
       "      <td>0.0</td>\n",
       "    </tr>\n",
       "    <tr>\n",
       "      <th>112426</th>\n",
       "      <td>0</td>\n",
       "      <td>0.280411</td>\n",
       "      <td>42</td>\n",
       "      <td>0</td>\n",
       "      <td>1957.0</td>\n",
       "      <td>NaN</td>\n",
       "      <td>7</td>\n",
       "      <td>0</td>\n",
       "      <td>1</td>\n",
       "      <td>0</td>\n",
       "      <td>0.0</td>\n",
       "    </tr>\n",
       "  </tbody>\n",
       "</table>\n",
       "</div>"
      ],
      "text/plain": [
       "        SeriousDlqin2yrs  RevolvingUtilizationOfUnsecuredLines  age  \\\n",
       "9220                   0                              0.095339   62   \n",
       "9236                   1                              1.000000   37   \n",
       "71995                  0                              0.002049   80   \n",
       "80512                  0                              1.000000   49   \n",
       "112426                 0                              0.280411   42   \n",
       "\n",
       "        NumberOfTime30-59DaysPastDueNotWorse  DebtRatio  MonthlyIncome  \\\n",
       "9220                                       0     2504.0            NaN   \n",
       "9236                                       0      220.0            NaN   \n",
       "71995                                      0     4128.0            NaN   \n",
       "80512                                      0      806.0            NaN   \n",
       "112426                                     0     1957.0            NaN   \n",
       "\n",
       "        NumberOfOpenCreditLinesAndLoans  NumberOfTimes90DaysLate  \\\n",
       "9220                                 11                        0   \n",
       "9236                                  1                        2   \n",
       "71995                                11                        0   \n",
       "80512                                 2                        0   \n",
       "112426                                7                        0   \n",
       "\n",
       "        NumberRealEstateLoansOrLines  NumberOfTime60-89DaysPastDueNotWorse  \\\n",
       "9220                               1                                     0   \n",
       "9236                               0                                     0   \n",
       "71995                              2                                     0   \n",
       "80512                              0                                     0   \n",
       "112426                             1                                     0   \n",
       "\n",
       "        NumberOfDependents  \n",
       "9220                   0.0  \n",
       "9236                   0.0  \n",
       "71995                  NaN  \n",
       "80512                  0.0  \n",
       "112426                 0.0  "
      ]
     },
     "metadata": {},
     "output_type": "display_data"
    }
   ],
   "source": [
    "# Showing examples of missing values\n",
    "indices = [9220, 9236, 71995, 80512, 112426]\n",
    "display(Markdown(\"_Table 4. Samples with missing values_\"))\n",
    "display(pd.DataFrame(csTraining.loc[indices], columns = csTraining.keys()))"
   ]
  },
  {
   "cell_type": "markdown",
   "metadata": {},
   "source": [
    "These NaN values where observed in _MonthlyIncome_ and _NumberOfDependents_ but can occur in any other column. Therefore to inspect if NaN values are really present in other features:"
   ]
  },
  {
   "cell_type": "code",
   "execution_count": 5,
   "metadata": {},
   "outputs": [
    {
     "data": {
      "text/markdown": [
       "\n",
       "#### Here is shown the number of NaN values detected in each feature.\n"
      ],
      "text/plain": [
       "<IPython.core.display.Markdown object>"
      ]
     },
     "metadata": {},
     "output_type": "display_data"
    },
    {
     "data": {
      "text/plain": [
       "SeriousDlqin2yrs                            0\n",
       "RevolvingUtilizationOfUnsecuredLines        0\n",
       "age                                         0\n",
       "NumberOfTime30-59DaysPastDueNotWorse        0\n",
       "DebtRatio                                   0\n",
       "MonthlyIncome                           29731\n",
       "NumberOfOpenCreditLinesAndLoans             0\n",
       "NumberOfTimes90DaysLate                     0\n",
       "NumberRealEstateLoansOrLines                0\n",
       "NumberOfTime60-89DaysPastDueNotWorse        0\n",
       "NumberOfDependents                       3924\n",
       "dtype: int64"
      ]
     },
     "metadata": {},
     "output_type": "display_data"
    }
   ],
   "source": [
    "# Counting the number of NaN per feature\n",
    "display(Markdown(\"\"\"\n",
    "#### Here is shown the number of NaN values detected in each feature.\n",
    "\"\"\"))\n",
    "display(csTraining.isnull().sum())"
   ]
  },
  {
   "cell_type": "code",
   "execution_count": 6,
   "metadata": {},
   "outputs": [
    {
     "name": "stdout",
     "output_type": "stream",
     "text": [
      "% of NaN in MonthlyIncome: 24.72%\n",
      "% of NaN in NumberOfDependents: 2.69%\n"
     ]
    }
   ],
   "source": [
    "print \"% of NaN in MonthlyIncome: {0:.2f}%\".format(float(csTraining.MonthlyIncome.isnull().sum()) / csTraining.MonthlyIncome.count() * 100)\n",
    "print \"% of NaN in NumberOfDependents: {0:.2f}%\".format(float(csTraining.NumberOfDependents.isnull().sum()) / csTraining.NumberOfDependents.count() * 100)"
   ]
  },
  {
   "cell_type": "markdown",
   "metadata": {},
   "source": [
    "Due to the significant amount of missing values in __MonthlyIncome__ and __NumberOfDependents__, a strategy must to be devised to handle these missing values. One possible strategy is replacing these values by the mean or median.\n",
    "\n",
    "Furthermore, missing values are not the only abnormality that may be found in a dataset. Here the identification of possible outliers is done using [Tukey's method](http://datapigtechnologies.com/blog/index.php/highlighting-outliers-in-your-data-with-the-tukey-method/), which however doesn't make any assumption about the distribution of the data."
   ]
  },
  {
   "cell_type": "code",
   "execution_count": 7,
   "metadata": {},
   "outputs": [
    {
     "data": {
      "text/markdown": [
       "_Table 5. Possible outliers identified by Tukey's method (2.0 x IQR)_"
      ],
      "text/plain": [
       "<IPython.core.display.Markdown object>"
      ]
     },
     "metadata": {},
     "output_type": "display_data"
    },
    {
     "data": {
      "text/html": [
       "<div>\n",
       "<style>\n",
       "    .dataframe thead tr:only-child th {\n",
       "        text-align: right;\n",
       "    }\n",
       "\n",
       "    .dataframe thead th {\n",
       "        text-align: left;\n",
       "    }\n",
       "\n",
       "    .dataframe tbody tr th {\n",
       "        vertical-align: top;\n",
       "    }\n",
       "</style>\n",
       "<table border=\"1\" class=\"dataframe\">\n",
       "  <thead>\n",
       "    <tr style=\"text-align: right;\">\n",
       "      <th></th>\n",
       "      <th>Q1</th>\n",
       "      <th>Q3</th>\n",
       "      <th>IQR</th>\n",
       "      <th>Lower Fence</th>\n",
       "      <th>Upper Fence</th>\n",
       "      <th># of Outliers</th>\n",
       "    </tr>\n",
       "  </thead>\n",
       "  <tbody>\n",
       "    <tr>\n",
       "      <th>RevolvingUtilizationOfUnsecuredLines</th>\n",
       "      <td>0.029867</td>\n",
       "      <td>0.559046</td>\n",
       "      <td>1.058358</td>\n",
       "      <td>-1.028490</td>\n",
       "      <td>1.617404</td>\n",
       "      <td>528</td>\n",
       "    </tr>\n",
       "    <tr>\n",
       "      <th>age</th>\n",
       "      <td>41.000000</td>\n",
       "      <td>63.000000</td>\n",
       "      <td>44.000000</td>\n",
       "      <td>-3.000000</td>\n",
       "      <td>107.000000</td>\n",
       "      <td>2</td>\n",
       "    </tr>\n",
       "    <tr>\n",
       "      <th>NumberOfTime30-59DaysPastDueNotWorse</th>\n",
       "      <td>0.000000</td>\n",
       "      <td>0.000000</td>\n",
       "      <td>0.000000</td>\n",
       "      <td>0.000000</td>\n",
       "      <td>0.000000</td>\n",
       "      <td>23982</td>\n",
       "    </tr>\n",
       "    <tr>\n",
       "      <th>DebtRatio</th>\n",
       "      <td>0.175074</td>\n",
       "      <td>0.868254</td>\n",
       "      <td>1.386360</td>\n",
       "      <td>-1.211286</td>\n",
       "      <td>2.254614</td>\n",
       "      <td>30815</td>\n",
       "    </tr>\n",
       "    <tr>\n",
       "      <th>MonthlyIncome</th>\n",
       "      <td>3400.000000</td>\n",
       "      <td>8249.000000</td>\n",
       "      <td>9698.000000</td>\n",
       "      <td>-6298.000000</td>\n",
       "      <td>17947.000000</td>\n",
       "      <td>32865</td>\n",
       "    </tr>\n",
       "    <tr>\n",
       "      <th>NumberOfOpenCreditLinesAndLoans</th>\n",
       "      <td>5.000000</td>\n",
       "      <td>11.000000</td>\n",
       "      <td>12.000000</td>\n",
       "      <td>-7.000000</td>\n",
       "      <td>23.000000</td>\n",
       "      <td>1898</td>\n",
       "    </tr>\n",
       "    <tr>\n",
       "      <th>NumberOfTimes90DaysLate</th>\n",
       "      <td>0.000000</td>\n",
       "      <td>0.000000</td>\n",
       "      <td>0.000000</td>\n",
       "      <td>0.000000</td>\n",
       "      <td>0.000000</td>\n",
       "      <td>8338</td>\n",
       "    </tr>\n",
       "    <tr>\n",
       "      <th>NumberRealEstateLoansOrLines</th>\n",
       "      <td>0.000000</td>\n",
       "      <td>2.000000</td>\n",
       "      <td>4.000000</td>\n",
       "      <td>-4.000000</td>\n",
       "      <td>6.000000</td>\n",
       "      <td>473</td>\n",
       "    </tr>\n",
       "    <tr>\n",
       "      <th>NumberOfTime60-89DaysPastDueNotWorse</th>\n",
       "      <td>0.000000</td>\n",
       "      <td>0.000000</td>\n",
       "      <td>0.000000</td>\n",
       "      <td>0.000000</td>\n",
       "      <td>0.000000</td>\n",
       "      <td>7604</td>\n",
       "    </tr>\n",
       "    <tr>\n",
       "      <th>NumberOfDependents</th>\n",
       "      <td>0.000000</td>\n",
       "      <td>1.000000</td>\n",
       "      <td>2.000000</td>\n",
       "      <td>-2.000000</td>\n",
       "      <td>3.000000</td>\n",
       "      <td>7777</td>\n",
       "    </tr>\n",
       "  </tbody>\n",
       "</table>\n",
       "</div>"
      ],
      "text/plain": [
       "                                               Q1           Q3          IQR  \\\n",
       "RevolvingUtilizationOfUnsecuredLines     0.029867     0.559046     1.058358   \n",
       "age                                     41.000000    63.000000    44.000000   \n",
       "NumberOfTime30-59DaysPastDueNotWorse     0.000000     0.000000     0.000000   \n",
       "DebtRatio                                0.175074     0.868254     1.386360   \n",
       "MonthlyIncome                         3400.000000  8249.000000  9698.000000   \n",
       "NumberOfOpenCreditLinesAndLoans          5.000000    11.000000    12.000000   \n",
       "NumberOfTimes90DaysLate                  0.000000     0.000000     0.000000   \n",
       "NumberRealEstateLoansOrLines             0.000000     2.000000     4.000000   \n",
       "NumberOfTime60-89DaysPastDueNotWorse     0.000000     0.000000     0.000000   \n",
       "NumberOfDependents                       0.000000     1.000000     2.000000   \n",
       "\n",
       "                                      Lower Fence   Upper Fence  # of Outliers  \n",
       "RevolvingUtilizationOfUnsecuredLines    -1.028490      1.617404            528  \n",
       "age                                     -3.000000    107.000000              2  \n",
       "NumberOfTime30-59DaysPastDueNotWorse     0.000000      0.000000          23982  \n",
       "DebtRatio                               -1.211286      2.254614          30815  \n",
       "MonthlyIncome                        -6298.000000  17947.000000          32865  \n",
       "NumberOfOpenCreditLinesAndLoans         -7.000000     23.000000           1898  \n",
       "NumberOfTimes90DaysLate                  0.000000      0.000000           8338  \n",
       "NumberRealEstateLoansOrLines            -4.000000      6.000000            473  \n",
       "NumberOfTime60-89DaysPastDueNotWorse     0.000000      0.000000           7604  \n",
       "NumberOfDependents                      -2.000000      3.000000           7777  "
      ]
     },
     "metadata": {},
     "output_type": "display_data"
    }
   ],
   "source": [
    "indx = {}\n",
    "# Droping SeriousDlqin2yrs, which is our target\n",
    "target = csTraining['SeriousDlqin2yrs']\n",
    "features_raw = csTraining.drop('SeriousDlqin2yrs', axis = 1)\n",
    "\n",
    "_features = features_raw.keys()\n",
    "infoTable = []\n",
    "\n",
    "for feature in _features:\n",
    "\n",
    "    # Calculating Q1 25th percentile of the data) for the given feature\n",
    "    Q1 = np.nanpercentile(features_raw[feature], 25)  \n",
    "    # Calculating Q3 (75th percentile of the data) for the given feature\n",
    "    Q3 = np.nanpercentile(features_raw[feature], 75)\n",
    "    \n",
    "    # Using the interquartile range to calculate an outlier step (a factor of the interquartile range)\n",
    "    fenceFactor = 2.0\n",
    "    step = fenceFactor * (Q3 - Q1)\n",
    "    \n",
    "    # Displaying outliers\n",
    "    outlrs = features_raw[~((features_raw[feature] >= (Q1 - step)) & (features_raw[feature] <= (Q3 + step)))]\n",
    "    \n",
    "    # Saving the outliers position for each feature\n",
    "    indx[feature] = np.asarray(outlrs.index)\n",
    "    \n",
    "    # Saving stats\n",
    "    infoTable = infoTable + [(Q1, Q3, step, Q1 - step, Q3 + step, len(indx[feature]))]\n",
    "    \n",
    "display(Markdown(\"_Table 5. Possible outliers identified by Tukey's method (2.0 x IQR)_\"))\n",
    "tukeyData = pd.DataFrame(infoTable,\n",
    "                         columns = ['Q1', 'Q3', 'IQR', 'Lower Fence', 'Upper Fence', '# of Outliers'],\n",
    "                         index = _features)\n",
    "display(tukeyData)"
   ]
  },
  {
   "cell_type": "markdown",
   "metadata": {},
   "source": [
    "Observing the information above, it is clear that the type of distribution must be considered before identifying and removing outliers - simply removing outliers based on Tukey's method may remove valuable information."
   ]
  },
  {
   "cell_type": "markdown",
   "metadata": {},
   "source": [
    "---"
   ]
  },
  {
   "cell_type": "markdown",
   "metadata": {},
   "source": [
    "### Exploratory Visualization\n",
    "\n",
    "While exploring the dataset, it was observed the presence of some sparse features and abnormalities as well. One characteristic that could particularly affect this project is the distribution type and skewness.\n",
    "\n",
    "To better understand those distributions, histograms of the features are shown below."
   ]
  },
  {
   "cell_type": "code",
   "execution_count": 8,
   "metadata": {},
   "outputs": [
    {
     "data": {
      "image/png": "[encoded data removed]",
      "text/plain": [
       "<matplotlib.figure.Figure at 0x107f1fe90>"
      ]
     },
     "metadata": {},
     "output_type": "display_data"
    }
   ],
   "source": [
    "import matplotlib.pyplot as plt\n",
    "\n",
    "plt.figure(figsize = (12, 12))\n",
    "\n",
    "i = 1\n",
    "for f in features_raw.keys():\n",
    "    plt.subplot(4, 3, i)\n",
    "    plt.title(f)\n",
    "    features_raw[f].plot.hist()\n",
    "    meanLine = plt.axvline(features_raw[f].mean(), color = 'r', linestyle = 'solid', linewidth = 2, label = 'Mean')\n",
    "    medianLine = plt.axvline(features_raw[f].median(), color = 'black', linestyle = 'dotted', linewidth = 2, label = 'Median')\n",
    "    plt.legend(handles = [meanLine, medianLine])\n",
    "    i = i + 1\n",
    "    \n",
    "plt.tight_layout()"
   ]
  },
  {
   "cell_type": "markdown",
   "metadata": {},
   "source": [
    "Due to the high frequency of some values in most of the features, it's not possible to observe and explore the distributions in the current scale. Although **age** seems to be the only exception, in which is possible to observe a normal-like distribution."
   ]
  },
  {
   "cell_type": "markdown",
   "metadata": {},
   "source": [
    "### Algorithms and Techniques\n",
    "\n",
    "\n",
    "The solution will predict if the borrower will be in financial distress within two years and will also provide the probability of being in that category. First, some aspects of the dataset will be visualized to improve understanding over the dataset and then prepared for being processed in the training and testing stages.\n",
    "\n",
    "In this binary classification solution, some models will be tested, such as Gradient Boosting, KNeighbors and SGD. These models will be evaluated by metrics such as accuracy, f-beta score and area under curve. The metric that will definitively select the best model is *area under curve*, which is expected to be more suitable to this kind of sparse dataset and which is also a requirement of the competition.\n",
    "\n",
    "The selection of the algorithms is partially based in skLearn model selection \"cheat-sheet\" ([Choosing the right estimator](http://scikit-learn.org/stable/tutorial/machine_learning_map/index.html)).\n",
    "\n",
    "**Stochastic Gradient Descent**, or just SGD, has been used since 1960 to train a wide range of models including (linear) support vector machines, logistic regression [1]. It's a very efficient model and was successfully applied in other machine learning problems with sparse dataset [2], and therefore SGD may be a good candidate to solve our problem.\n",
    "\n",
    "**KNeighbors** may be one of the simplest algorithms but it is used in some interesting classification problems, such as handwritten digits and image classification. This type of classification works by consulting the dataset and assigning a label to the datapoint based on nearest neighbors, hence called instance-based learning or non-generalizing learning [3]. KNeighborsClassifier may be a good candidate, considering that credit delinquency may share similar characteristics and therefore, KNeighborClassifier can compare a potential delinquent to its neighbors and classify it accordingly.\n",
    "\n",
    "**Gradient Boosting** or just GBM has been used to build ranking models for information retrieval systems, seach engines and recommender systems, to name a few of them [4],[5]. It's an ensemble method, that is, it's built from simpler, weaker learners (CART usually) and they are iteratively combined to form a strong learner, which tries to improve where it performed poorly in the last iterations. Due to the sparseness of the dataset, a robust algorithm like GBM may perform better where other algorithm may fail.\n",
    "\n",
    "The dataset will be prepared based on its characteristics and abnormalities found in data exploration section and will be split into training and testing sets, in a stratified fashion, due to the sparseness of our target feature.\n",
    "\n",
    "These algorithms will be tested using the default parameters whenever possible, except in some few cases. SGD classifier is created using 'log' loss function to be able to use *predict_proba()* method and *max_iter = 1000* to avoid getting different results depending on the sklearn version, which may have different default values. KNeighbors will be used with *n_neighbors = 2* instead of the default 5, since it's a binary classification problem. Gradient Boosting classifier will be created with *random_state = 0* to avoid differences in the result of different code executions, and *presort = False* to avoid sorting the sparse dataset.\n",
    "\n",
    "After selecting the best performer, based on benchmark and metrics, it will have its hyperparameters fine tuned and the competition test set processed and saved.\n",
    "\n",
    "[1]: https://en.wikipedia.org/wiki/Stochastic_gradient_descent \"Wikipedia - Stochastic Gradient Descent\"\n",
    "[2]: http://scikit-learn.org/stable/modules/sgd.html#sgd \"sklearn - Stochastic Gradient Descent\"\n",
    "[3]: http://scikit-learn.org/stable/modules/neighbors.html \"Nearest Neighbors\"\n",
    "[4]: https://en.wikipedia.org/wiki/Gradient_boosting \"Gradient Boosting\"\n",
    "[5]: https://en.wikipedia.org/wiki/Learning_to_rank \"Learning to rank\""
   ]
  },
  {
   "cell_type": "markdown",
   "metadata": {},
   "source": [
    "---"
   ]
  },
  {
   "cell_type": "markdown",
   "metadata": {},
   "source": [
    "## III. Methodology"
   ]
  },
  {
   "cell_type": "markdown",
   "metadata": {},
   "source": [
    "### Data Preprocessing\n",
    "\n",
    "Data preprocessing will prepare the input of our models and it is essential to robust and consistent results. It usually involves the selection, preprocessing and transformation of data to be better processed later."
   ]
  },
  {
   "cell_type": "markdown",
   "metadata": {},
   "source": [
    "#### Replacing NaN and missing values\n",
    "\n",
    "All the missing values interpreted as NaN must be replaced by the median. This strategy is used to avoid missing the entire sample and using the median won't affect the feature statistics. As detected earlier in Data Exploration section, only **MonthlyIncome** and **NumberOfDependents** have NaN values."
   ]
  },
  {
   "cell_type": "code",
   "execution_count": 9,
   "metadata": {},
   "outputs": [
    {
     "data": {
      "text/markdown": [
       "\n",
       "#### Here is shown the number of NaN values now present in each feature.\n"
      ],
      "text/plain": [
       "<IPython.core.display.Markdown object>"
      ]
     },
     "metadata": {},
     "output_type": "display_data"
    },
    {
     "data": {
      "text/plain": [
       "RevolvingUtilizationOfUnsecuredLines    0\n",
       "age                                     0\n",
       "NumberOfTime30-59DaysPastDueNotWorse    0\n",
       "DebtRatio                               0\n",
       "MonthlyIncome                           0\n",
       "NumberOfOpenCreditLinesAndLoans         0\n",
       "NumberOfTimes90DaysLate                 0\n",
       "NumberRealEstateLoansOrLines            0\n",
       "NumberOfTime60-89DaysPastDueNotWorse    0\n",
       "NumberOfDependents                      0\n",
       "dtype: int64"
      ]
     },
     "metadata": {},
     "output_type": "display_data"
    }
   ],
   "source": [
    "def replaceNaNvaluesByMean(data):\n",
    "    \"\"\"\n",
    "    Replace all missing values from MonthlyIncome and NumberOfDependents\n",
    "    by their mean.\n",
    "    \"\"\"\n",
    "    nanFeaturesWithMean = {'MonthlyIncome': csTraining.MonthlyIncome.mean(),\n",
    "                           'NumberOfDependents': csTraining.NumberOfDependents.mean()}\n",
    "    \n",
    "    tmp = pd.DataFrame(data = data, copy = True)\n",
    "    tmp.fillna(value = nanFeaturesWithMean, inplace = True)\n",
    "    \n",
    "    return tmp\n",
    "\n",
    "def replaceNaNvaluesByMedian(data):\n",
    "    \"\"\"\n",
    "    Replace all missing values from MonthlyIncome and NumberOfDependents\n",
    "    by their median.\n",
    "    \"\"\"\n",
    "    nanFeaturesWithMedian = {'MonthlyIncome': csTraining.MonthlyIncome.median(),\n",
    "                             'NumberOfDependents': csTraining.NumberOfDependents.median()}\n",
    "    \n",
    "    tmp = pd.DataFrame(data = data, copy = True)\n",
    "    tmp.fillna(value = nanFeaturesWithMedian, inplace = True)\n",
    "    \n",
    "    return tmp\n",
    "\n",
    "featuresWithoutNaN = replaceNaNvaluesByMedian(features_raw)\n",
    "\n",
    "# Counting the number of NaN per feature\n",
    "display(Markdown(\"\"\"\n",
    "#### Here is shown the number of NaN values now present in each feature.\n",
    "\"\"\"))\n",
    "display(featuresWithoutNaN.isnull().sum())"
   ]
  },
  {
   "cell_type": "markdown",
   "metadata": {},
   "source": [
    "#### Log transformation\n",
    "\n",
    "The distributions found while exploring and visualizing the dataset, presented some highly skewed pattern. For these highly-skewed distributions, it is common practice to apply a [logarithmic transformation][] on the data so that the very large and very small values do not negatively affect the performance of a learning algorithm. Using a logarithmic transformation significantly reduces the range of values caused by outliers.\n",
    "\n",
    "[logarithmic transformation]: https://en.wikipedia.org/wiki/Data_transformation_(statistics)"
   ]
  },
  {
   "cell_type": "code",
   "execution_count": 10,
   "metadata": {},
   "outputs": [
    {
     "name": "stdout",
     "output_type": "stream",
     "text": [
      "Applied log transformation to ['RevolvingUtilizationOfUnsecuredLines', 'age', 'NumberOfTime30-59DaysPastDueNotWorse', 'DebtRatio', 'MonthlyIncome', 'NumberOfOpenCreditLinesAndLoans', 'NumberOfTimes90DaysLate', 'NumberRealEstateLoansOrLines', 'NumberOfTime60-89DaysPastDueNotWorse', 'NumberOfDependents']\n"
     ]
    }
   ],
   "source": [
    "# Applying log transformation\n",
    "\n",
    "keys = ['RevolvingUtilizationOfUnsecuredLines', 'age', 'NumberOfTime30-59DaysPastDueNotWorse', 'DebtRatio',\n",
    "          'MonthlyIncome', 'NumberOfOpenCreditLinesAndLoans', 'NumberOfTimes90DaysLate', \n",
    "          'NumberRealEstateLoansOrLines', 'NumberOfTime60-89DaysPastDueNotWorse', 'NumberOfDependents']\n",
    "\n",
    "def applyLogTransformation(data, features):\n",
    "    \"\"\"\n",
    "    Apply log transformation to each feature listed in features parameter\n",
    "    \"\"\"\n",
    "    logData = pd.DataFrame(data = data, copy = True)\n",
    "    logData[features] = logData[features].apply(lambda x: np.log(x + 1))\n",
    "    return logData\n",
    "    \n",
    "featuresLogTransformed = applyLogTransformation(featuresWithoutNaN, keys)\n",
    "\n",
    "print \"Applied log transformation to {}\".format(keys)"
   ]
  },
  {
   "cell_type": "code",
   "execution_count": 11,
   "metadata": {},
   "outputs": [
    {
     "data": {
      "image/png": "[encoded data removed]",
      "text/plain": [
       "<matplotlib.figure.Figure at 0x113aee6d0>"
      ]
     },
     "metadata": {},
     "output_type": "display_data"
    }
   ],
   "source": [
    "# Visualizing features histograms after log transformation\n",
    "\n",
    "plt.figure(figsize = (12, 12))\n",
    "\n",
    "i = 1\n",
    "for f in featuresLogTransformed.keys():\n",
    "    plt.subplot(4, 3, i)\n",
    "    plt.title(f)\n",
    "    featuresLogTransformed[f].plot.hist()\n",
    "    meanLine = plt.axvline(featuresLogTransformed[f].mean(), color = 'r', linestyle = 'solid', linewidth = 2, label = 'Mean')\n",
    "    medianLine = plt.axvline(featuresLogTransformed[f].median(), color = 'black', linestyle = 'dotted', linewidth = 2, label = 'Median')\n",
    "    plt.legend(handles = [meanLine, medianLine])\n",
    "    i = i + 1\n",
    "    \n",
    "plt.tight_layout()"
   ]
  },
  {
   "cell_type": "code",
   "execution_count": 12,
   "metadata": {},
   "outputs": [
    {
     "data": {
      "text/markdown": [
       "_Table 6. Sampling first 5 rows of the transformed dataset_"
      ],
      "text/plain": [
       "<IPython.core.display.Markdown object>"
      ]
     },
     "metadata": {},
     "output_type": "display_data"
    },
    {
     "data": {
      "text/html": [
       "<div>\n",
       "<style>\n",
       "    .dataframe thead tr:only-child th {\n",
       "        text-align: right;\n",
       "    }\n",
       "\n",
       "    .dataframe thead th {\n",
       "        text-align: left;\n",
       "    }\n",
       "\n",
       "    .dataframe tbody tr th {\n",
       "        vertical-align: top;\n",
       "    }\n",
       "</style>\n",
       "<table border=\"1\" class=\"dataframe\">\n",
       "  <thead>\n",
       "    <tr style=\"text-align: right;\">\n",
       "      <th></th>\n",
       "      <th>RevolvingUtilizationOfUnsecuredLines</th>\n",
       "      <th>age</th>\n",
       "      <th>NumberOfTime30-59DaysPastDueNotWorse</th>\n",
       "      <th>DebtRatio</th>\n",
       "      <th>MonthlyIncome</th>\n",
       "      <th>NumberOfOpenCreditLinesAndLoans</th>\n",
       "      <th>NumberOfTimes90DaysLate</th>\n",
       "      <th>NumberRealEstateLoansOrLines</th>\n",
       "      <th>NumberOfTime60-89DaysPastDueNotWorse</th>\n",
       "      <th>NumberOfDependents</th>\n",
       "    </tr>\n",
       "  </thead>\n",
       "  <tbody>\n",
       "    <tr>\n",
       "      <th>1</th>\n",
       "      <td>0.568789</td>\n",
       "      <td>3.828641</td>\n",
       "      <td>1.098612</td>\n",
       "      <td>0.589442</td>\n",
       "      <td>9.118335</td>\n",
       "      <td>2.639057</td>\n",
       "      <td>0.000000</td>\n",
       "      <td>1.945910</td>\n",
       "      <td>0.0</td>\n",
       "      <td>1.098612</td>\n",
       "    </tr>\n",
       "    <tr>\n",
       "      <th>2</th>\n",
       "      <td>0.671490</td>\n",
       "      <td>3.713572</td>\n",
       "      <td>0.000000</td>\n",
       "      <td>0.115002</td>\n",
       "      <td>7.863651</td>\n",
       "      <td>1.609438</td>\n",
       "      <td>0.000000</td>\n",
       "      <td>0.000000</td>\n",
       "      <td>0.0</td>\n",
       "      <td>0.693147</td>\n",
       "    </tr>\n",
       "    <tr>\n",
       "      <th>3</th>\n",
       "      <td>0.505721</td>\n",
       "      <td>3.663562</td>\n",
       "      <td>0.693147</td>\n",
       "      <td>0.081684</td>\n",
       "      <td>8.020599</td>\n",
       "      <td>1.098612</td>\n",
       "      <td>0.693147</td>\n",
       "      <td>0.000000</td>\n",
       "      <td>0.0</td>\n",
       "      <td>0.000000</td>\n",
       "    </tr>\n",
       "    <tr>\n",
       "      <th>4</th>\n",
       "      <td>0.210107</td>\n",
       "      <td>3.433987</td>\n",
       "      <td>0.000000</td>\n",
       "      <td>0.035415</td>\n",
       "      <td>8.101981</td>\n",
       "      <td>1.791759</td>\n",
       "      <td>0.000000</td>\n",
       "      <td>0.000000</td>\n",
       "      <td>0.0</td>\n",
       "      <td>0.000000</td>\n",
       "    </tr>\n",
       "    <tr>\n",
       "      <th>5</th>\n",
       "      <td>0.645657</td>\n",
       "      <td>3.912023</td>\n",
       "      <td>0.693147</td>\n",
       "      <td>0.024620</td>\n",
       "      <td>11.060196</td>\n",
       "      <td>2.079442</td>\n",
       "      <td>0.000000</td>\n",
       "      <td>0.693147</td>\n",
       "      <td>0.0</td>\n",
       "      <td>0.000000</td>\n",
       "    </tr>\n",
       "  </tbody>\n",
       "</table>\n",
       "</div>"
      ],
      "text/plain": [
       "   RevolvingUtilizationOfUnsecuredLines       age  \\\n",
       "1                              0.568789  3.828641   \n",
       "2                              0.671490  3.713572   \n",
       "3                              0.505721  3.663562   \n",
       "4                              0.210107  3.433987   \n",
       "5                              0.645657  3.912023   \n",
       "\n",
       "   NumberOfTime30-59DaysPastDueNotWorse  DebtRatio  MonthlyIncome  \\\n",
       "1                              1.098612   0.589442       9.118335   \n",
       "2                              0.000000   0.115002       7.863651   \n",
       "3                              0.693147   0.081684       8.020599   \n",
       "4                              0.000000   0.035415       8.101981   \n",
       "5                              0.693147   0.024620      11.060196   \n",
       "\n",
       "   NumberOfOpenCreditLinesAndLoans  NumberOfTimes90DaysLate  \\\n",
       "1                         2.639057                 0.000000   \n",
       "2                         1.609438                 0.000000   \n",
       "3                         1.098612                 0.693147   \n",
       "4                         1.791759                 0.000000   \n",
       "5                         2.079442                 0.000000   \n",
       "\n",
       "   NumberRealEstateLoansOrLines  NumberOfTime60-89DaysPastDueNotWorse  \\\n",
       "1                      1.945910                                   0.0   \n",
       "2                      0.000000                                   0.0   \n",
       "3                      0.000000                                   0.0   \n",
       "4                      0.000000                                   0.0   \n",
       "5                      0.693147                                   0.0   \n",
       "\n",
       "   NumberOfDependents  \n",
       "1            1.098612  \n",
       "2            0.693147  \n",
       "3            0.000000  \n",
       "4            0.000000  \n",
       "5            0.000000  "
      ]
     },
     "metadata": {},
     "output_type": "display_data"
    }
   ],
   "source": [
    "# Show an example of a record with scaling applied\n",
    "features_final = featuresLogTransformed\n",
    "display(Markdown(\"_Table 6. Sampling first 5 rows of the transformed dataset_\"))\n",
    "display(features_final.head(n = 5))"
   ]
  },
  {
   "cell_type": "markdown",
   "metadata": {},
   "source": [
    "Since all features are numerical, preprocessing stages such as conversion of non-numeric categorical data won't be needed.\n",
    "\n",
    "#### Training and Test sets\n",
    "\n",
    "As a final stage of our data preparation, the normalized dataset will be split (both features and labels) into training and test sets in a 80-20% ratio, respectively. The training set will be used to train our model and the test set will be used to evaluate them using 'unseen' data."
   ]
  },
  {
   "cell_type": "code",
   "execution_count": 13,
   "metadata": {},
   "outputs": [
    {
     "name": "stdout",
     "output_type": "stream",
     "text": [
      "Training set has 120000 samples.\n",
      "Testing set has 30000 samples.\n"
     ]
    }
   ],
   "source": [
    "from sklearn.model_selection import train_test_split\n",
    "\n",
    "# Split 'features_final' and 'target' data into training and testing sets\n",
    "X_train, X_test, y_train, y_test = train_test_split(features_final, \n",
    "                                                    target,\n",
    "                                                    stratify = target,\n",
    "                                                    test_size = 0.2, \n",
    "                                                    random_state = 0)\n",
    "\n",
    "# Show the results of the split\n",
    "print \"Training set has {} samples.\".format(X_train.shape[0])\n",
    "print \"Testing set has {} samples.\".format(X_test.shape[0])"
   ]
  },
  {
   "cell_type": "markdown",
   "metadata": {},
   "source": [
    "---"
   ]
  },
  {
   "cell_type": "markdown",
   "metadata": {},
   "source": [
    "### Benchmark\n",
    "\n",
    "As observed before, our dataset is unbalanced – samples of credit delinquency account only for 6.68% of the samples - and therefore one possible benchmark model is the naïve predictor, which could consider that all borrowers have good credit (hadn't experienced 90+ days past due delinquency) and yet would present a 93.316% accuracy. However, we need a better benchmark for our future model.\n",
    "\n",
    "After preparations in our dataset, a linear logistic regression (with no parameter tuning) will be used as benchmark model. It's a simple predictive model that will be used in place of the naïve predictor, and hopefully, will provide means to compare our models and eliminate the worst performers.\n",
    "\n",
    "Due to some abnormalities found in the dataset (NaN values), it was necessary to perform the bechmarking after data preparation. Otherwise, the chosen algorithm for the benchmark will fail to process the samples."
   ]
  },
  {
   "cell_type": "code",
   "execution_count": 14,
   "metadata": {},
   "outputs": [
    {
     "name": "stdout",
     "output_type": "stream",
     "text": [
      "Trained LogisticRegression Classifier in 0:00:00.972847\n"
     ]
    },
    {
     "data": {
      "text/markdown": [
       "_Table 7. Benchmark model results_"
      ],
      "text/plain": [
       "<IPython.core.display.Markdown object>"
      ]
     },
     "metadata": {},
     "output_type": "display_data"
    },
    {
     "data": {
      "text/html": [
       "<div>\n",
       "<style>\n",
       "    .dataframe thead tr:only-child th {\n",
       "        text-align: right;\n",
       "    }\n",
       "\n",
       "    .dataframe thead th {\n",
       "        text-align: left;\n",
       "    }\n",
       "\n",
       "    .dataframe tbody tr th {\n",
       "        vertical-align: top;\n",
       "    }\n",
       "</style>\n",
       "<table border=\"1\" class=\"dataframe\">\n",
       "  <thead>\n",
       "    <tr style=\"text-align: right;\">\n",
       "      <th></th>\n",
       "      <th>Training time</th>\n",
       "      <th>Accuracy</th>\n",
       "      <th>fbeta2</th>\n",
       "      <th>ROC AUC</th>\n",
       "    </tr>\n",
       "  </thead>\n",
       "  <tbody>\n",
       "    <tr>\n",
       "      <th>Logistic Regression</th>\n",
       "      <td>00:00:00.972847</td>\n",
       "      <td>0.9351</td>\n",
       "      <td>0.150496</td>\n",
       "      <td>0.839294</td>\n",
       "    </tr>\n",
       "  </tbody>\n",
       "</table>\n",
       "</div>"
      ],
      "text/plain": [
       "                      Training time  Accuracy    fbeta2   ROC AUC\n",
       "Logistic Regression 00:00:00.972847    0.9351  0.150496  0.839294"
      ]
     },
     "metadata": {},
     "output_type": "display_data"
    }
   ],
   "source": [
    "from sklearn.linear_model import LogisticRegression\n",
    "from sklearn.metrics import fbeta_score, accuracy_score, roc_curve, auc, roc_auc_score\n",
    "from datetime import timedelta\n",
    "from time import time\n",
    "\n",
    "lrc = LogisticRegression(random_state = 0)\n",
    "\n",
    "start = time()\n",
    "lrc.fit(X_train, y_train)\n",
    "end = time()\n",
    "\n",
    "training_time = timedelta(seconds = end - start)\n",
    "print \"Trained LogisticRegression Classifier in {}\".format(str(training_time))\n",
    "\n",
    "pred_test = lrc.predict(X_test)\n",
    "prob_test = lrc.predict_proba(X_test)[:, 1]\n",
    "\n",
    "accuracy = accuracy_score(y_test, pred_test)\n",
    "fbeta = fbeta_score(y_test, pred_test, beta = 2.0)\n",
    "fpr, tpr, ts = roc_curve(y_test, prob_test)\n",
    "roc_auc = auc(fpr, tpr)\n",
    "\n",
    "results = {}\n",
    "results['Benchmark'] = {'probabilities': prob_test,\n",
    "                        'accuracy': accuracy,\n",
    "                        'fbeta': fbeta,\n",
    "                        'time': training_time,\n",
    "                        'roc_auc': roc_auc}\n",
    "\n",
    "metrics = [(training_time, accuracy, fbeta, roc_auc)]\n",
    "\n",
    "display(Markdown(\"_Table 7. Benchmark model results_\"))\n",
    "display(pd.DataFrame(metrics,\n",
    "                     columns = ['Training time', 'Accuracy', 'fbeta2', 'ROC AUC'],\n",
    "                     index = ['Logistic Regression']))"
   ]
  },
  {
   "cell_type": "markdown",
   "metadata": {},
   "source": [
    "---"
   ]
  },
  {
   "cell_type": "markdown",
   "metadata": {},
   "source": [
    "### Implementation\n",
    "\n",
    "Some training models will be used and compared, such as Gradient Boosting, KNeighbors and SGD classifiers. \n",
    "\n",
    "All three algorithms will be used to train a model and gather enough information during the process to evaluate the best one.\n",
    "\n",
    "The best model will be evaluated using area under curve (a competition requirement), but accuracy and f-beta score will also be used to study each one in the context of a sparse dataset."
   ]
  },
  {
   "cell_type": "markdown",
   "metadata": {},
   "source": [
    "### Training\n",
    "\n",
    "The split dataset will be used to train and later evaluate the model. Three different algorithms will be used: Stochastic Gradient Descent, KNeighbors and Gradient Boosting classifiers; and the best performing will be selected for future fine tuning. The choice of algorithms was based in the sklearn chart for choosing estimators. [1]\n",
    "\n",
    "At this point, three metrics will be used to evaluate the models: accuracy, f-score and area under curve using the receiver operating characteristic. In the case of f-score metric, a beta of 2.0 will be used to consider more recall than precision in the harmonic mean.\n",
    "\n",
    "#### Stochastic Gradient Descent ####\n",
    "\n",
    "* *Stochastic Gradient Descent, or just SGD, has been used since 1960 to train a wide range of models including (linear) support vector machines, logistic regression [2]. In fact, when using its default loss function, SGD gives a linear suport vector machine. [3]*\n",
    "\n",
    "* *SGD is very efficient and easy to implement, but may be sensitive to feature scaling. [4]* \n",
    "\n",
    "* *Has also been successfully applied in sparse machine learning problems, which can be very useful for our problem. [4]*\n",
    "\n",
    "[1]: http://scikit-learn.org/stable/tutorial/machine_learning_map/ \"sklearn - Choosing the right estimator\"\n",
    "[2]: https://en.wikipedia.org/wiki/Stochastic_gradient_descent \"Wikipedia - Stochastic Gradient Descent\"\n",
    "[3]: http://scikit-learn.org/stable/modules/generated/sklearn.linear_model.SGDClassifier.html \"SGDClassifier\"\n",
    "[4]: http://scikit-learn.org/stable/modules/sgd.html#sgd \"sklearn - Stochastic Gradient Descent\""
   ]
  },
  {
   "cell_type": "code",
   "execution_count": 15,
   "metadata": {},
   "outputs": [
    {
     "name": "stdout",
     "output_type": "stream",
     "text": [
      "Trained SGD Classifier in 0:00:49.935813\n"
     ]
    }
   ],
   "source": [
    "from sklearn.linear_model import SGDClassifier\n",
    "\n",
    "sgd = SGDClassifier(loss = 'log', max_iter = 1000)\n",
    "\n",
    "start = time()\n",
    "sgd.fit(X_train, y_train)\n",
    "end = time()\n",
    "\n",
    "training_time = timedelta(seconds = end - start)\n",
    "print \"Trained SGD Classifier in {}\".format(str(training_time))\n",
    "\n",
    "pred_test = sgd.predict(X_test)\n",
    "prob_test = sgd.predict_proba(X_test)[:, 1]\n",
    "\n",
    "results['sgd'] = {'probabilities': prob_test,\n",
    "                  'accuracy': accuracy_score(y_test, pred_test),\n",
    "                  'fbeta': fbeta_score(y_test, pred_test, beta = 2.0),\n",
    "                  'time': training_time}"
   ]
  },
  {
   "cell_type": "markdown",
   "metadata": {},
   "source": [
    "#### KNeighborsClassifier ####\n",
    "\n",
    "* *KNeighborsClassifiers are used in handwritten digits and image classification. This type of classification works by consulting the dataset and assigning a label to the datapoint based on nearest neighbors, hence called instance-based learning or non-generalizing learning. [4]*\n",
    "\n",
    "* *Its strength comes from the fact that it's one of the simplest, yet powerful machine learning algorithm. As the amount of data increases to infinity, it's guaranteed that a two-class KNeighborsClassifier won't yeld an error rate worse than twice the Bayes error rate. [5]*\n",
    "\n",
    "* *KNeighborsClassifier may suffer the Curse of Dimensionality, which in KNeighbors context means that calculating the distance of the neighbors to the datapoint may be time consuming and unhelpful when there are lots of features (neighbors) in the dataset. It's also very sensitive to noise, if present in the dataset. [5]*\n",
    "\n",
    "* *KNeighborsClassifier may be a good candidate, considering that credit delinquency may share similar characteristics and therefore, KNeighborClassifier can compare a potential delinquent to its neighbors and classify it accordingly.*\n",
    "\n",
    "[4]: http://scikit-learn.org/stable/modules/neighbors.html \"Nearest Neighbors\"\n",
    "[5]: https://en.wikipedia.org/wiki/K-nearest_neighbors_algorithm \"k-nearest neighbors algorithm\""
   ]
  },
  {
   "cell_type": "code",
   "execution_count": 16,
   "metadata": {},
   "outputs": [
    {
     "name": "stdout",
     "output_type": "stream",
     "text": [
      "Trained KNeighbors Classifier in 0:00:03.163364\n"
     ]
    }
   ],
   "source": [
    "from sklearn.neighbors import KNeighborsClassifier\n",
    "\n",
    "kneigh = KNeighborsClassifier(n_neighbors = 2) # because we have only 2 categories\n",
    "\n",
    "start = time()\n",
    "kneigh.fit(X_train, y_train)\n",
    "end = time()\n",
    "\n",
    "training_time = timedelta(seconds = end - start)\n",
    "print \"Trained KNeighbors Classifier in {}\".format(str(training_time))\n",
    "\n",
    "pred_test = kneigh.predict(X_test)\n",
    "prob_test = kneigh.predict_proba(X_test)[:, 1]\n",
    "\n",
    "results['kneigh'] = {'probabilities': prob_test,\n",
    "                     'accuracy': accuracy_score(y_test, pred_test),\n",
    "                     'fbeta': fbeta_score(y_test, pred_test, beta = 2.0),\n",
    "                     'time': training_time}"
   ]
  },
  {
   "cell_type": "markdown",
   "metadata": {},
   "source": [
    "#### Gradient Boosting ####\n",
    "\n",
    "* *Gradient Tree Boosting, Gradient Boosting Machine or just Gradient Boosting has been used to build ranking models for information retrieval systems, search engines and recommender systems, to name a few of them. [6],[7]*\n",
    "\n",
    "* *As a ensemble method, one of its stregnths is using simpler, weaker learners (decision trees usually) and combine them to form strong learners iteratively and at each iteration, putting more weight on where it performed poorly.*\n",
    "\n",
    "* *Gradient Boosting is known to be harder to fine tune than other methods, but once well adjusted, GB usually gives good results.*\n",
    "\n",
    "[6]: https://en.wikipedia.org/wiki/Gradient_boosting \"Gradient Boosting\"\n",
    "[7]: https://en.wikipedia.org/wiki/Learning_to_rank \"Learning to rank\""
   ]
  },
  {
   "cell_type": "code",
   "execution_count": 17,
   "metadata": {},
   "outputs": [
    {
     "name": "stdout",
     "output_type": "stream",
     "text": [
      "Trained GradientBoosting Classifier in 0:00:30.044658 s\n"
     ]
    }
   ],
   "source": [
    "from sklearn.ensemble import GradientBoostingClassifier\n",
    "\n",
    "gbm = GradientBoostingClassifier(random_state = 0, presort = False)\n",
    "\n",
    "start = time()\n",
    "gbm.fit(X_train, y_train)\n",
    "end = time()\n",
    "\n",
    "training_time = timedelta(seconds = end - start)\n",
    "print \"Trained GradientBoosting Classifier in {} s\".format(str(training_time))\n",
    "\n",
    "pred_test = gbm.predict(X_test)\n",
    "prob_test = gbm.predict_proba(X_test)[:, 1]\n",
    "\n",
    "results['gbm'] = {'probabilities': prob_test,\n",
    "                  'accuracy': accuracy_score(y_test, pred_test),\n",
    "                  'fbeta': fbeta_score(y_test, pred_test, beta = 2.0),\n",
    "                  'time': training_time}"
   ]
  },
  {
   "cell_type": "markdown",
   "metadata": {},
   "source": [
    "After training different algorithms, all the information gathered about predictions and metrics will be used to compute and display the Receiver Operating Characteristic (ROC) curve, as well as the Area Under Curve (AUC) which is a requirement of the competition. Additionally the training time for each one will be displayed along with metrics for accuracy, fbeta 2.0."
   ]
  },
  {
   "cell_type": "code",
   "execution_count": 18,
   "metadata": {},
   "outputs": [
    {
     "data": {
      "image/png": "[encoded data removed]",
      "text/plain": [
       "<matplotlib.figure.Figure at 0x113a29450>"
      ]
     },
     "metadata": {},
     "output_type": "display_data"
    },
    {
     "data": {
      "text/markdown": [
       "_Table 8. Comparing benchmark and candidates_"
      ],
      "text/plain": [
       "<IPython.core.display.Markdown object>"
      ]
     },
     "metadata": {},
     "output_type": "display_data"
    },
    {
     "data": {
      "text/html": [
       "<div>\n",
       "<style>\n",
       "    .dataframe thead tr:only-child th {\n",
       "        text-align: right;\n",
       "    }\n",
       "\n",
       "    .dataframe thead th {\n",
       "        text-align: left;\n",
       "    }\n",
       "\n",
       "    .dataframe tbody tr th {\n",
       "        vertical-align: top;\n",
       "    }\n",
       "</style>\n",
       "<table border=\"1\" class=\"dataframe\">\n",
       "  <thead>\n",
       "    <tr style=\"text-align: right;\">\n",
       "      <th></th>\n",
       "      <th>Training time</th>\n",
       "      <th>Accuracy</th>\n",
       "      <th>fbeta2</th>\n",
       "      <th>ROC AUC</th>\n",
       "    </tr>\n",
       "  </thead>\n",
       "  <tbody>\n",
       "    <tr>\n",
       "      <th>kneigh</th>\n",
       "      <td>00:00:03.163364</td>\n",
       "      <td>0.930833</td>\n",
       "      <td>0.119468</td>\n",
       "      <td>0.655625</td>\n",
       "    </tr>\n",
       "    <tr>\n",
       "      <th>Benchmark</th>\n",
       "      <td>00:00:00.972847</td>\n",
       "      <td>0.935100</td>\n",
       "      <td>0.150496</td>\n",
       "      <td>0.839294</td>\n",
       "    </tr>\n",
       "    <tr>\n",
       "      <th>sgd</th>\n",
       "      <td>00:00:49.935813</td>\n",
       "      <td>0.934967</td>\n",
       "      <td>0.158161</td>\n",
       "      <td>0.839422</td>\n",
       "    </tr>\n",
       "    <tr>\n",
       "      <th>gbm</th>\n",
       "      <td>00:00:30.044658</td>\n",
       "      <td>0.936167</td>\n",
       "      <td>0.223358</td>\n",
       "      <td>0.865726</td>\n",
       "    </tr>\n",
       "  </tbody>\n",
       "</table>\n",
       "</div>"
      ],
      "text/plain": [
       "            Training time  Accuracy    fbeta2   ROC AUC\n",
       "kneigh    00:00:03.163364  0.930833  0.119468  0.655625\n",
       "Benchmark 00:00:00.972847  0.935100  0.150496  0.839294\n",
       "sgd       00:00:49.935813  0.934967  0.158161  0.839422\n",
       "gbm       00:00:30.044658  0.936167  0.223358  0.865726"
      ]
     },
     "metadata": {},
     "output_type": "display_data"
    }
   ],
   "source": [
    "plt.figure(figsize = (6, 6))\n",
    "plt.plot([0, 1], [0, 1], 'k--')\n",
    "\n",
    "fpr, tpr, ts = roc_curve(y_test, results['Benchmark']['probabilities'])\n",
    "plt.plot(fpr, tpr, label = \"Benchmark\")\n",
    "\n",
    "fpr, tpr, ts = roc_curve(y_test, results['sgd']['probabilities'])\n",
    "results['sgd']['roc_auc'] = auc(fpr, tpr)\n",
    "plt.plot(fpr, tpr, label = \"SGD\")\n",
    "\n",
    "fpr, tpr, ts = roc_curve(y_test, results['kneigh']['probabilities'])\n",
    "results['kneigh']['roc_auc'] = auc(fpr, tpr)\n",
    "plt.plot(fpr, tpr, label = \"KNeigh\")\n",
    "\n",
    "fpr, tpr, ts = roc_curve(y_test, results['gbm']['probabilities'])\n",
    "results['gbm']['roc_auc'] = auc(fpr, tpr)\n",
    "plt.plot(fpr, tpr, label = \"GBM\")\n",
    "\n",
    "plt.xlabel('False positive rate')\n",
    "plt.ylabel('True positive rate')\n",
    "plt.title('ROC curve')\n",
    "plt.legend(loc='best')\n",
    "plt.show()\n",
    "\n",
    "metrics = []\n",
    "indices = []\n",
    "for r in results:\n",
    "    metrics = metrics + [(results[r]['time'], results[r]['accuracy'], results[r]['fbeta'], results[r]['roc_auc'])]\n",
    "    indices = indices + [r]\n",
    "\n",
    "display(Markdown(\"_Table 8. Comparing benchmark and candidates_\"))\n",
    "display(pd.DataFrame(metrics,\n",
    "                     columns = ['Training time', 'Accuracy', 'fbeta2', 'ROC AUC'],\n",
    "                     index = indices).sort_values(by = ['ROC AUC']))"
   ]
  },
  {
   "cell_type": "markdown",
   "metadata": {},
   "source": [
    "It was observed that the best performing algorithm is Gradient Boosting. Gradient Boosting and SGD scored higher than the benchmark, being SGD too close to the benchmark though.\n",
    "\n",
    "KNeighbors was well below the benchmark and won't be considered for further analysis."
   ]
  },
  {
   "cell_type": "markdown",
   "metadata": {},
   "source": [
    "### Refinement\n",
    "\n",
    "The best performance out-of-box was achieved using the Gradient Boosting Classifier, which scored 0.865726  in the Area Under Curve criteria.\n",
    "\n",
    "The following code segment will try to improve this model by fine-tuning its hyper-paramters using [Grid Search](http://scikit-learn.org/stable/modules/generated/sklearn.model_selection.GridSearchCV.html), which will exhaustively search over the specified parameters values using the desired estimator (Gradient Boosting), while evaluating every pass using ROC Area Under Curve metric."
   ]
  },
  {
   "cell_type": "code",
   "execution_count": 19,
   "metadata": {},
   "outputs": [
    {
     "name": "stdout",
     "output_type": "stream",
     "text": [
      "Grid search took 0:34:48.370307 s\n",
      "Best parameters are  {'n_estimators': 200, 'loss': 'exponential', 'learning_rate': 0.1}\n"
     ]
    }
   ],
   "source": [
    "from sklearn.model_selection import GridSearchCV\n",
    "\n",
    "# Creating the classifier\n",
    "gbm = GradientBoostingClassifier(random_state = 0, presort = False)\n",
    "\n",
    "# Defining the parameters we want to test\n",
    "parameters = {'loss': ['deviance', 'exponential'],\n",
    "              'n_estimators': [100, 200, 300],\n",
    "              'learning_rate': [0.1, 0.15, 0.2]}\n",
    "\n",
    "# Create the grid search object and train it\n",
    "start = time()\n",
    "gridSearch = GridSearchCV(gbm, parameters, scoring = 'roc_auc').fit(X_train, y_train)\n",
    "end = time()\n",
    "\n",
    "print \"Grid search took {} s\".format(str(timedelta(seconds = end - start)))\n",
    "print \"Best parameters are \", gridSearch.best_params_"
   ]
  },
  {
   "cell_type": "code",
   "execution_count": 20,
   "metadata": {},
   "outputs": [
    {
     "name": "stdout",
     "output_type": "stream",
     "text": [
      "Best classifier training time: 0:00:58.641775\n",
      "Best classifier prediction time: 0:00:00.156595\n",
      "\n"
     ]
    }
   ],
   "source": [
    "# Fitting best estimator\n",
    "start = time()\n",
    "gridSearch.best_estimator_.fit(X_train, y_train)\n",
    "end = time()\n",
    "training_time = timedelta(seconds = end - start)\n",
    "print \"Best classifier training time: {}\".format(str(training_time))\n",
    "\n",
    "# Make predictions using the optimized model\n",
    "start = time()\n",
    "pred_test = gridSearch.best_estimator_.predict(X_test)\n",
    "end = time()\n",
    "print \"Best classifier prediction time: {}\".format(str(timedelta(seconds = end - start)))\n",
    "print\n",
    "\n",
    "optimized_proba = gridSearch.best_estimator_.predict_proba(X_test)[:, 1]\n",
    "\n",
    "results['optimal'] = {'probabilities': optimized_proba,\n",
    "                  'accuracy': accuracy_score(y_test, pred_test),\n",
    "                  'fbeta': fbeta_score(y_test, pred_test, beta = 2.0),\n",
    "                  'time': training_time}"
   ]
  },
  {
   "cell_type": "code",
   "execution_count": 21,
   "metadata": {},
   "outputs": [
    {
     "data": {
      "image/png": "[encoded data removed]",
      "text/plain": [
       "<matplotlib.figure.Figure at 0x108ed8550>"
      ]
     },
     "metadata": {},
     "output_type": "display_data"
    },
    {
     "data": {
      "text/markdown": [
       "_Table 9. Metrics from benchmark, unoptimized gradient boosting and optimized gradient boosting._"
      ],
      "text/plain": [
       "<IPython.core.display.Markdown object>"
      ]
     },
     "metadata": {},
     "output_type": "display_data"
    },
    {
     "data": {
      "text/html": [
       "<div>\n",
       "<style>\n",
       "    .dataframe thead tr:only-child th {\n",
       "        text-align: right;\n",
       "    }\n",
       "\n",
       "    .dataframe thead th {\n",
       "        text-align: left;\n",
       "    }\n",
       "\n",
       "    .dataframe tbody tr th {\n",
       "        vertical-align: top;\n",
       "    }\n",
       "</style>\n",
       "<table border=\"1\" class=\"dataframe\">\n",
       "  <thead>\n",
       "    <tr style=\"text-align: right;\">\n",
       "      <th></th>\n",
       "      <th>Training time</th>\n",
       "      <th>Accuracy</th>\n",
       "      <th>fbeta2</th>\n",
       "      <th>ROC AUC</th>\n",
       "    </tr>\n",
       "  </thead>\n",
       "  <tbody>\n",
       "    <tr>\n",
       "      <th>Benchmark</th>\n",
       "      <td>00:00:00.972847</td>\n",
       "      <td>0.935100</td>\n",
       "      <td>0.150496</td>\n",
       "      <td>0.839294</td>\n",
       "    </tr>\n",
       "    <tr>\n",
       "      <th>gbm</th>\n",
       "      <td>00:00:30.044658</td>\n",
       "      <td>0.936167</td>\n",
       "      <td>0.223358</td>\n",
       "      <td>0.865726</td>\n",
       "    </tr>\n",
       "    <tr>\n",
       "      <th>optimal</th>\n",
       "      <td>00:00:58.641775</td>\n",
       "      <td>0.936333</td>\n",
       "      <td>0.224009</td>\n",
       "      <td>0.867495</td>\n",
       "    </tr>\n",
       "  </tbody>\n",
       "</table>\n",
       "</div>"
      ],
      "text/plain": [
       "            Training time  Accuracy    fbeta2   ROC AUC\n",
       "Benchmark 00:00:00.972847  0.935100  0.150496  0.839294\n",
       "gbm       00:00:30.044658  0.936167  0.223358  0.865726\n",
       "optimal   00:00:58.641775  0.936333  0.224009  0.867495"
      ]
     },
     "metadata": {},
     "output_type": "display_data"
    }
   ],
   "source": [
    "# Visualizing the performance of both models\n",
    "plt.figure(figsize = (6, 6))\n",
    "plt.plot([0, 1], [0, 1], 'k--')\n",
    "\n",
    "fpr, tpr, ts = roc_curve(y_test, results['gbm']['probabilities'])\n",
    "plt.plot(fpr, tpr, label = \"Unoptimized\")\n",
    "\n",
    "fpr, tpr, ts = roc_curve(y_test, results['optimal']['probabilities'])\n",
    "plt.plot(fpr, tpr, label = \"Optimized\")\n",
    "results['optimal']['roc_auc'] = auc(fpr, tpr)\n",
    "\n",
    "fpr, tpr, ts = roc_curve(y_test, results['Benchmark']['probabilities'])\n",
    "plt.plot(fpr, tpr, label = \"Benchmark\")\n",
    "\n",
    "plt.xlabel('False positive rate')\n",
    "plt.ylabel('True positive rate')\n",
    "plt.title('ROC curve')\n",
    "plt.legend(loc='best')\n",
    "plt.show()\n",
    "\n",
    "metrics = []\n",
    "indices = []\n",
    "for r in ['gbm', 'Benchmark', 'optimal']:\n",
    "    metrics = metrics + [(results[r]['time'], results[r]['accuracy'], results[r]['fbeta'], results[r]['roc_auc'])]\n",
    "    indices = indices + [r]\n",
    "      \n",
    "display(Markdown(\"_Table 9. Metrics from benchmark, unoptimized gradient boosting and optimized gradient boosting._\"))\n",
    "display(pd.DataFrame(metrics,\n",
    "                     columns = ['Training time', 'Accuracy', 'fbeta2', 'ROC AUC'],\n",
    "                     index = indices).sort_values(by = ['ROC AUC']))"
   ]
  },
  {
   "cell_type": "markdown",
   "metadata": {},
   "source": [
    "---"
   ]
  },
  {
   "cell_type": "markdown",
   "metadata": {},
   "source": [
    "## IV. Results"
   ]
  },
  {
   "cell_type": "markdown",
   "metadata": {},
   "source": [
    "### Model Evaluation and Validation\n",
    "\n",
    "The final, best performing model was choosed based on the evaluated metrics, mainly Receiver Operating Curve - Area Under Curve, which proved to be the best metric for this kind of dataset and problem - it's unaffected by class distribution. As expected, accuracy proved to be highly ineffective - our naïve assumption provided a 93.316% accuracy, so did all the models, which presented values ranging from 93.0% to 93.6%. \n",
    "\n",
    "_Table 10. Consolidated results_\n",
    "\n",
    "| Algorithm | Training time | Accuracy | fbeta2 | ROC AUC |\n",
    "|---|---|---|---|---|\n",
    "| **kneigh** | 00:00:03.693158 | 0.930833 |\t0.119468 | 0.655625 |\n",
    "| **Benchmark** | 00:00:00.916679 | 0.935100 | 0.150496 | 0.839294 |\n",
    "| **sgd** | 00:00:51.549854 | 0.935233 | 0.150567 | 0.839410 |\n",
    "| **gbm** | 00:00:26.674639 | 0.936167 | 0.223358 | 0.865726 |\n",
    "| **optimzed gbm** | *00:02:38.668936* | *0.936333* | *0.224009* | *0.867495* |\n",
    "\n",
    "The best model was the one using Gradient Boosting classifier with its hyper parameters adjusted to the values in the optimized column:\n",
    "\n",
    "_Table 11. Hyper parameters_\n",
    "\n",
    "| Hyper parameters | Default | Gradient Booosting | Optimized Gradient Boosting|\n",
    "| :--- | :---: | :---: |\n",
    "| **loss function** | deviance | deviance | exponential |\n",
    "| **n_estimators** | 100 | 100 | 200 |\n",
    "| **presort** | auto | false | false |\n",
    "\n",
    "All models were evaluated using an unseen test set, unfortunately there is no more labeled data to use and validate it."
   ]
  },
  {
   "cell_type": "markdown",
   "metadata": {},
   "source": [
    "### Justification\n",
    "\n",
    "The results achieved by the optimized model are stronger (0.867495) than the bechmark model (0.839294) using the ROC AUC metric and they are also better in accuracy (93.633%) then the previous naïve assumption (93.316%).\n",
    "\n",
    "_Table 12. Benchmark and Optimized GBM results_\n",
    "\n",
    "| | Training time | Accuracy | fbeta2 | ROC AUC |\n",
    "| --- | --- | --- | --- | --- |\n",
    "| **Benchmark** | 00:00:00.916679 | 0.935100 | 0.150496 | 0.839294 |\n",
    "| **optimzed gbm** | *00:02:38.668936* | *0.936333* | *0.224009* | *0.867495* |\n",
    "\n",
    "Nevertheless, it is necessary to justify our statement with further analysis. The optimized model is compared against the benchmark using two evaluation tools: classification report and confusion matrix."
   ]
  },
  {
   "cell_type": "code",
   "execution_count": 22,
   "metadata": {},
   "outputs": [
    {
     "name": "stdout",
     "output_type": "stream",
     "text": [
      "Optimal cutoff (optimized model) = [0.062297003867280397]\n",
      "Optimal cutoff (benchmark) = [0.056372220173279822]\n"
     ]
    }
   ],
   "source": [
    "def getOptimalCutoff(target, predicted):\n",
    "    \"\"\"\n",
    "    Find the optimal probability cutoff point for a classification model related to event rate\n",
    "    \n",
    "    * Based on the code in Stack Overflow: https://stackoverflow.com/questions/28719067/roc-curve-and-cut-off-point-python\n",
    "    \n",
    "    Parameters\n",
    "    ----------\n",
    "    target : Matrix with dependent or target data, where rows are observations\n",
    "    predicted : Matrix with predicted data, where rows are observations\n",
    "\n",
    "    Returns\n",
    "    -------     \n",
    "    list type, with optimal cutoff value\n",
    "\n",
    "    \"\"\"\n",
    "    fpr, tpr, ts = roc_curve(target, predicted)\n",
    "\n",
    "    # Calculating optimal threshold\n",
    "    i = np.arange(len(tpr)) \n",
    "    roc = pd.DataFrame({'tf' : pd.Series(tpr - (1 - fpr), index = i), 'threshold' : pd.Series(ts, index = i)})\n",
    "    roc_t = roc.iloc[(roc.tf - 0).abs().argsort()[:1]]\n",
    "\n",
    "    return list(roc_t['threshold'])\n",
    "\n",
    "cutoffGBM = getOptimalCutoff(y_test, results['optimal']['probabilities'])\n",
    "print \"Optimal cutoff (optimized model) = {}\".format(cutoffGBM)\n",
    "cutoffBenchmark = getOptimalCutoff(y_test, results['Benchmark']['probabilities'])\n",
    "print \"Optimal cutoff (benchmark) = {}\".format(cutoffBenchmark)\n",
    "\n",
    "def processPrediction(probas, cutoff):\n",
    "    \"\"\"\n",
    "    Generates prediction array from probabilities and cutoff\n",
    "    \"\"\"\n",
    "    preds = []\n",
    "    for p in probas:\n",
    "        if p > cutoff:\n",
    "            preds.append(1)\n",
    "        else:\n",
    "            preds.append(0)\n",
    "    \n",
    "    return preds\n",
    "\n",
    "\n",
    "# Applying cutoff to the predictions\n",
    "predictionsGBM = processPrediction(results['optimal']['probabilities'], cutoffGBM)\n",
    "predictionsBenchmark = processPrediction(results['Benchmark']['probabilities'], cutoffBenchmark)"
   ]
  },
  {
   "cell_type": "code",
   "execution_count": 23,
   "metadata": {},
   "outputs": [
    {
     "data": {
      "text/markdown": [
       "_Table 13. Benchmark classification report_"
      ],
      "text/plain": [
       "<IPython.core.display.Markdown object>"
      ]
     },
     "metadata": {},
     "output_type": "display_data"
    },
    {
     "name": "stdout",
     "output_type": "stream",
     "text": [
      "             precision    recall  f1-score   support\n",
      "\n",
      "          0       0.98      0.76      0.85     27995\n",
      "          1       0.18      0.76      0.30      2005\n",
      "\n",
      "avg / total       0.92      0.76      0.82     30000\n",
      "\n"
     ]
    },
    {
     "data": {
      "text/markdown": [
       "_Table 14. Optimized model classification report_"
      ],
      "text/plain": [
       "<IPython.core.display.Markdown object>"
      ]
     },
     "metadata": {},
     "output_type": "display_data"
    },
    {
     "name": "stdout",
     "output_type": "stream",
     "text": [
      "             precision    recall  f1-score   support\n",
      "\n",
      "          0       0.98      0.79      0.87     27995\n",
      "          1       0.21      0.79      0.33      2005\n",
      "\n",
      "avg / total       0.93      0.79      0.84     30000\n",
      "\n"
     ]
    }
   ],
   "source": [
    "from sklearn.metrics import classification_report\n",
    "\n",
    "display(Markdown(\"_Table 13. Benchmark classification report_\"))\n",
    "print classification_report(y_test, predictionsBenchmark)\n",
    "display(Markdown(\"_Table 14. Optimized model classification report_\"))\n",
    "print classification_report(y_test, predictionsGBM)"
   ]
  },
  {
   "cell_type": "code",
   "execution_count": 24,
   "metadata": {},
   "outputs": [
    {
     "data": {
      "text/markdown": [
       "_Table 15. Normalized confusion matrix for the benchmark._"
      ],
      "text/plain": [
       "<IPython.core.display.Markdown object>"
      ]
     },
     "metadata": {},
     "output_type": "display_data"
    },
    {
     "name": "stdout",
     "output_type": "stream",
     "text": [
      "Normalized confusion matrix\n",
      "[[ 0.75949277  0.24050723]\n",
      " [ 0.24089776  0.75910224]]\n"
     ]
    },
    {
     "data": {
      "text/markdown": [
       "_Table 16. Normalized confusion matrix for the optimized GBM._"
      ],
      "text/plain": [
       "<IPython.core.display.Markdown object>"
      ]
     },
     "metadata": {},
     "output_type": "display_data"
    },
    {
     "name": "stdout",
     "output_type": "stream",
     "text": [
      "Normalized confusion matrix\n",
      "[[ 0.78578318  0.21421682]\n",
      " [ 0.21446384  0.78553616]]\n"
     ]
    },
    {
     "data": {
      "text/markdown": [
       "#### Confusion matrices"
      ],
      "text/plain": [
       "<IPython.core.display.Markdown object>"
      ]
     },
     "metadata": {},
     "output_type": "display_data"
    },
    {
     "data": {
      "image/png": "[encoded data removed]",
      "text/plain": [
       "<matplotlib.figure.Figure at 0x108edb750>"
      ]
     },
     "metadata": {},
     "output_type": "display_data"
    }
   ],
   "source": [
    "import itertools\n",
    "from sklearn.metrics import confusion_matrix\n",
    "\n",
    "def plot_confusion_matrix(cm, classes,\n",
    "                          normalize=False,\n",
    "                          title='Confusion matrix',\n",
    "                          cmap=plt.cm.Blues):\n",
    "    \"\"\"\n",
    "    This function prints and plots the confusion matrix.\n",
    "    Normalization can be applied by setting `normalize=True`.\n",
    "    ** Based on plot_confusion_matrix() from sklearn documentation **\n",
    "    \"\"\"\n",
    "    if normalize:\n",
    "        cm = cm.astype('float') / cm.sum(axis=1)[:, np.newaxis]\n",
    "        print(\"Normalized confusion matrix\")\n",
    "    else:\n",
    "        print('Confusion matrix, without normalization')\n",
    "\n",
    "    print(cm)\n",
    "\n",
    "    plt.imshow(cm, interpolation='nearest', cmap=cmap)\n",
    "    plt.title(title)\n",
    "    plt.colorbar()\n",
    "    tick_marks = np.arange(len(classes))\n",
    "    plt.xticks(tick_marks, classes, rotation=45)\n",
    "    plt.yticks(tick_marks, classes)\n",
    "\n",
    "    fmt = '.2f' if normalize else 'd'\n",
    "    thresh = cm.max() / 2.\n",
    "    for i, j in itertools.product(range(cm.shape[0]), range(cm.shape[1])):\n",
    "        plt.text(j, i, format(cm[i, j], fmt),\n",
    "                 horizontalalignment=\"center\",\n",
    "                 color=\"white\" if cm[i, j] > thresh else \"black\")\n",
    "\n",
    "    plt.tight_layout()\n",
    "    plt.ylabel('True label')\n",
    "    plt.xlabel('Predicted label')\n",
    "    \n",
    "\n",
    "plt.figure(figsize = (10, 4))\n",
    "plt.subplot(1, 2, 1)\n",
    "display(Markdown(\"_Table 15. Normalized confusion matrix for the benchmark._\"))\n",
    "plot_confusion_matrix(confusion_matrix(y_test, predictionsBenchmark),\n",
    "                     ['0', '1'],\n",
    "                     normalize = True,\n",
    "                     title = \"Confusion matrix - Benchmark model\")\n",
    "\n",
    "plt.subplot(1, 2, 2)\n",
    "display(Markdown(\"_Table 16. Normalized confusion matrix for the optimized GBM._\"))\n",
    "plot_confusion_matrix(confusion_matrix(y_test, predictionsGBM),\n",
    "                     ['0', '1'],\n",
    "                     normalize = True,\n",
    "                     title = \"Confusion matrix - Optimized GBM\")\n",
    "\n",
    "display(Markdown(\"#### Confusion matrices\"))\n",
    "plt.tight_layout()"
   ]
  },
  {
   "cell_type": "markdown",
   "metadata": {},
   "source": [
    "As observed in the classification report and in the confusion matrix, the optimized Gradient Boosting Classifier achieved better scores and metrics.\n",
    "\n",
    "In the classification report, the recall is one of the most important metrics and Gradient Boosting achieved 0.79, which also influenced the confusion matrix results, showing 0.79 for True Positive and True Negative rate."
   ]
  },
  {
   "cell_type": "markdown",
   "metadata": {},
   "source": [
    "## V. Conclusion"
   ]
  },
  {
   "cell_type": "markdown",
   "metadata": {},
   "source": [
    "### Free-Form Visualization\n",
    "\n",
    "One possible, and useful, way to visualize the predictions made by our model is creating some kind of credit score ranging from 0 to 100 based on the predicted probabilities, where the higher, the better is someone's score."
   ]
  },
  {
   "cell_type": "code",
   "execution_count": 25,
   "metadata": {},
   "outputs": [
    {
     "data": {
      "image/png": "[encoded data removed]",
      "text/plain": [
       "<matplotlib.figure.Figure at 0x112771790>"
      ]
     },
     "metadata": {},
     "output_type": "display_data"
    }
   ],
   "source": [
    "scores = (1 - results['optimal']['probabilities']) * 100\n",
    "plt.figure()\n",
    "\n",
    "cm = plt.cm.get_cmap('RdYlGn')\n",
    "n, bins, patches = plt.hist(scores, bins = 10, orientation = 'horizontal', label = 'Credit Score', color = 'red')\n",
    "bin_centers = 0.5 * (bins[:-1] + bins[1:])\n",
    "\n",
    "col = bin_centers - min(bin_centers)\n",
    "col /= max(col)\n",
    "\n",
    "for c, p in zip(col, patches):\n",
    "    plt.setp(p, 'facecolor', cm(c))\n",
    "    \n",
    "plt.title('Credit Score Histogram')\n",
    "plt.ylabel('Score')\n",
    "plt.xlabel('Samples')\n",
    "plt.show()"
   ]
  },
  {
   "cell_type": "markdown",
   "metadata": {},
   "source": [
    "The histogram is also in line with the characteristics of our dataset, which has few samples of persons in financial distress."
   ]
  },
  {
   "cell_type": "markdown",
   "metadata": {},
   "source": [
    "### Reflection\n",
    "\n",
    "First and foremost, the dataset was loaded, explored and right there I realized that there was missing data and kinds of distributions quite difficult to visualize, such as skewed distributions and sparse data. Furthermore, these characteristics along could jeopardize the results of the entire project.\n",
    "\n",
    "The exploring phase prepared the ground for the data preprocessing that would come next. In the preprocessing I had to come up with a method to replace the missing values instead of losing the sample and which would affect the dataset as little as possible - done replacing the missing values with the mean for that feature. The next challenge was transforming the features so that their sparseness, skewness wouldn't be a problem later. The log transformation achieved these results and also reduced the effect of outliers on the algorithms used later in the implementation.\n",
    "\n",
    "Finally, in the implementation phase, I had to adjust the implementation of the models and the refinement by trial-and-error, which involved lots of iterations and time, but at the end I came up with a solution that allowed me to save and compare the results later. Furthermore, I believe the model could be used by people who wishes to computer their own credit score, helping them deciding if a new mortgage or loan will be a good decision."
   ]
  },
  {
   "cell_type": "markdown",
   "metadata": {},
   "source": [
    "### Improvement\n",
    "\n",
    "Actually, there is room for improvement. I would like to include a Principal Component Analysis to identify which features are responsible for most of the variance in the dataset and to use the identified components in the model, observing how they influence it.\n",
    "\n",
    "Another possible strategy is always research some different algorithms, which could boost either training time and metrics. One strong candidate is XGBoost.\n",
    "\n",
    "---\n",
    "\n",
    "Last but not least, the competition required to process csTest.csv dataset and publish the predictions using the optimized model."
   ]
  },
  {
   "cell_type": "code",
   "execution_count": 26,
   "metadata": {},
   "outputs": [
    {
     "data": {
      "text/markdown": [
       "_Table 17. Sampling first 5 rows of the competition test set_"
      ],
      "text/plain": [
       "<IPython.core.display.Markdown object>"
      ]
     },
     "metadata": {},
     "output_type": "display_data"
    },
    {
     "data": {
      "text/html": [
       "<div>\n",
       "<style>\n",
       "    .dataframe thead tr:only-child th {\n",
       "        text-align: right;\n",
       "    }\n",
       "\n",
       "    .dataframe thead th {\n",
       "        text-align: left;\n",
       "    }\n",
       "\n",
       "    .dataframe tbody tr th {\n",
       "        vertical-align: top;\n",
       "    }\n",
       "</style>\n",
       "<table border=\"1\" class=\"dataframe\">\n",
       "  <thead>\n",
       "    <tr style=\"text-align: right;\">\n",
       "      <th></th>\n",
       "      <th>SeriousDlqin2yrs</th>\n",
       "      <th>RevolvingUtilizationOfUnsecuredLines</th>\n",
       "      <th>age</th>\n",
       "      <th>NumberOfTime30-59DaysPastDueNotWorse</th>\n",
       "      <th>DebtRatio</th>\n",
       "      <th>MonthlyIncome</th>\n",
       "      <th>NumberOfOpenCreditLinesAndLoans</th>\n",
       "      <th>NumberOfTimes90DaysLate</th>\n",
       "      <th>NumberRealEstateLoansOrLines</th>\n",
       "      <th>NumberOfTime60-89DaysPastDueNotWorse</th>\n",
       "      <th>NumberOfDependents</th>\n",
       "    </tr>\n",
       "  </thead>\n",
       "  <tbody>\n",
       "    <tr>\n",
       "      <th>1</th>\n",
       "      <td>NaN</td>\n",
       "      <td>0.885519</td>\n",
       "      <td>43</td>\n",
       "      <td>0</td>\n",
       "      <td>0.177513</td>\n",
       "      <td>5700.0</td>\n",
       "      <td>4</td>\n",
       "      <td>0</td>\n",
       "      <td>0</td>\n",
       "      <td>0</td>\n",
       "      <td>0.0</td>\n",
       "    </tr>\n",
       "    <tr>\n",
       "      <th>2</th>\n",
       "      <td>NaN</td>\n",
       "      <td>0.463295</td>\n",
       "      <td>57</td>\n",
       "      <td>0</td>\n",
       "      <td>0.527237</td>\n",
       "      <td>9141.0</td>\n",
       "      <td>15</td>\n",
       "      <td>0</td>\n",
       "      <td>4</td>\n",
       "      <td>0</td>\n",
       "      <td>2.0</td>\n",
       "    </tr>\n",
       "    <tr>\n",
       "      <th>3</th>\n",
       "      <td>NaN</td>\n",
       "      <td>0.043275</td>\n",
       "      <td>59</td>\n",
       "      <td>0</td>\n",
       "      <td>0.687648</td>\n",
       "      <td>5083.0</td>\n",
       "      <td>12</td>\n",
       "      <td>0</td>\n",
       "      <td>1</td>\n",
       "      <td>0</td>\n",
       "      <td>2.0</td>\n",
       "    </tr>\n",
       "    <tr>\n",
       "      <th>4</th>\n",
       "      <td>NaN</td>\n",
       "      <td>0.280308</td>\n",
       "      <td>38</td>\n",
       "      <td>1</td>\n",
       "      <td>0.925961</td>\n",
       "      <td>3200.0</td>\n",
       "      <td>7</td>\n",
       "      <td>0</td>\n",
       "      <td>2</td>\n",
       "      <td>0</td>\n",
       "      <td>0.0</td>\n",
       "    </tr>\n",
       "    <tr>\n",
       "      <th>5</th>\n",
       "      <td>NaN</td>\n",
       "      <td>1.000000</td>\n",
       "      <td>27</td>\n",
       "      <td>0</td>\n",
       "      <td>0.019917</td>\n",
       "      <td>3865.0</td>\n",
       "      <td>4</td>\n",
       "      <td>0</td>\n",
       "      <td>0</td>\n",
       "      <td>0</td>\n",
       "      <td>1.0</td>\n",
       "    </tr>\n",
       "  </tbody>\n",
       "</table>\n",
       "</div>"
      ],
      "text/plain": [
       "   SeriousDlqin2yrs  RevolvingUtilizationOfUnsecuredLines  age  \\\n",
       "1               NaN                              0.885519   43   \n",
       "2               NaN                              0.463295   57   \n",
       "3               NaN                              0.043275   59   \n",
       "4               NaN                              0.280308   38   \n",
       "5               NaN                              1.000000   27   \n",
       "\n",
       "   NumberOfTime30-59DaysPastDueNotWorse  DebtRatio  MonthlyIncome  \\\n",
       "1                                     0   0.177513         5700.0   \n",
       "2                                     0   0.527237         9141.0   \n",
       "3                                     0   0.687648         5083.0   \n",
       "4                                     1   0.925961         3200.0   \n",
       "5                                     0   0.019917         3865.0   \n",
       "\n",
       "   NumberOfOpenCreditLinesAndLoans  NumberOfTimes90DaysLate  \\\n",
       "1                                4                        0   \n",
       "2                               15                        0   \n",
       "3                               12                        0   \n",
       "4                                7                        0   \n",
       "5                                4                        0   \n",
       "\n",
       "   NumberRealEstateLoansOrLines  NumberOfTime60-89DaysPastDueNotWorse  \\\n",
       "1                             0                                     0   \n",
       "2                             4                                     0   \n",
       "3                             1                                     0   \n",
       "4                             2                                     0   \n",
       "5                             0                                     0   \n",
       "\n",
       "   NumberOfDependents  \n",
       "1                 0.0  \n",
       "2                 2.0  \n",
       "3                 2.0  \n",
       "4                 0.0  \n",
       "5                 1.0  "
      ]
     },
     "metadata": {},
     "output_type": "display_data"
    },
    {
     "name": "stdout",
     "output_type": "stream",
     "text": [
      "* Competition test dataset has 101503 samples with 11 features each.\n"
     ]
    }
   ],
   "source": [
    "# Load competition test set\n",
    "try:\n",
    "    csTest = pd.read_csv(\"dataset/cs-test.csv\", index_col = 0)\n",
    "    display(Markdown(\"_Table 17. Sampling first 5 rows of the competition test set_\"))\n",
    "    display(csTest.head(5))\n",
    "    print \"* Competition test dataset has {} samples with {} features each.\".format(*csTest.shape)\n",
    "except:\n",
    "    print \"Dataset could not be loaded. Is the dataset missing?\""
   ]
  },
  {
   "cell_type": "code",
   "execution_count": 27,
   "metadata": {},
   "outputs": [
    {
     "name": "stdout",
     "output_type": "stream",
     "text": [
      "(101503, 10)\n"
     ]
    }
   ],
   "source": [
    "# Droping SeriousDlqin2yrs, which is our target\n",
    "csTest_features_raw = csTest.drop('SeriousDlqin2yrs', axis = 1)\n",
    "\n",
    "# Data preparation\n",
    "csTest_features_nan = replaceNaNvaluesByMedian(csTest_features_raw)\n",
    "\n",
    "keys = ['RevolvingUtilizationOfUnsecuredLines', 'age', 'NumberOfTime30-59DaysPastDueNotWorse', 'DebtRatio',\n",
    "          'MonthlyIncome', 'NumberOfOpenCreditLinesAndLoans', 'NumberOfTimes90DaysLate', \n",
    "          'NumberRealEstateLoansOrLines', 'NumberOfTime60-89DaysPastDueNotWorse', 'NumberOfDependents']\n",
    "\n",
    "csTest_features_final = applyLogTransformation(csTest_features_nan, keys)\n",
    "print csTest_features_final.shape"
   ]
  },
  {
   "cell_type": "code",
   "execution_count": 28,
   "metadata": {},
   "outputs": [
    {
     "name": "stdout",
     "output_type": "stream",
     "text": [
      "csTest predictions (credit score) saved!\n"
     ]
    },
    {
     "data": {
      "text/markdown": [
       "_Table 18. Sampling first 5 rows of the predicted credit score_"
      ],
      "text/plain": [
       "<IPython.core.display.Markdown object>"
      ]
     },
     "metadata": {},
     "output_type": "display_data"
    },
    {
     "data": {
      "text/html": [
       "<div>\n",
       "<style>\n",
       "    .dataframe thead tr:only-child th {\n",
       "        text-align: right;\n",
       "    }\n",
       "\n",
       "    .dataframe thead th {\n",
       "        text-align: left;\n",
       "    }\n",
       "\n",
       "    .dataframe tbody tr th {\n",
       "        vertical-align: top;\n",
       "    }\n",
       "</style>\n",
       "<table border=\"1\" class=\"dataframe\">\n",
       "  <thead>\n",
       "    <tr style=\"text-align: right;\">\n",
       "      <th></th>\n",
       "      <th>Credit Score</th>\n",
       "    </tr>\n",
       "  </thead>\n",
       "  <tbody>\n",
       "    <tr>\n",
       "      <th>0</th>\n",
       "      <td>0.065353</td>\n",
       "    </tr>\n",
       "    <tr>\n",
       "      <th>1</th>\n",
       "      <td>0.049706</td>\n",
       "    </tr>\n",
       "    <tr>\n",
       "      <th>2</th>\n",
       "      <td>0.013163</td>\n",
       "    </tr>\n",
       "    <tr>\n",
       "      <th>3</th>\n",
       "      <td>0.078185</td>\n",
       "    </tr>\n",
       "    <tr>\n",
       "      <th>4</th>\n",
       "      <td>0.096483</td>\n",
       "    </tr>\n",
       "  </tbody>\n",
       "</table>\n",
       "</div>"
      ],
      "text/plain": [
       "   Credit Score\n",
       "0      0.065353\n",
       "1      0.049706\n",
       "2      0.013163\n",
       "3      0.078185\n",
       "4      0.096483"
      ]
     },
     "metadata": {},
     "output_type": "display_data"
    }
   ],
   "source": [
    "# Predicting probabilities\n",
    "csTest_proba = gridSearch.best_estimator_.predict_proba(csTest_features_final)[:, 1]\n",
    "creditScore = pd.DataFrame(data = csTest_proba, columns = ['Credit Score'])\n",
    "\n",
    "try:\n",
    "    creditScore.to_csv(\"dataset/cs_pred.csv\")\n",
    "    print \"csTest predictions (credit score) saved!\"\n",
    "except:\n",
    "    print \"Could not save csTest predictions!\"\n",
    "    \n",
    "display(Markdown(\"_Table 18. Sampling first 5 rows of the predicted credit score_\"))\n",
    "display(creditScore.head(5))"
   ]
  },
  {
   "cell_type": "code",
   "execution_count": 29,
   "metadata": {},
   "outputs": [
    {
     "data": {
      "text/markdown": [
       "_Table 19. Sampling first 5 rows of the recomposed test set_"
      ],
      "text/plain": [
       "<IPython.core.display.Markdown object>"
      ]
     },
     "metadata": {},
     "output_type": "display_data"
    },
    {
     "data": {
      "text/html": [
       "<div>\n",
       "<style>\n",
       "    .dataframe thead tr:only-child th {\n",
       "        text-align: right;\n",
       "    }\n",
       "\n",
       "    .dataframe thead th {\n",
       "        text-align: left;\n",
       "    }\n",
       "\n",
       "    .dataframe tbody tr th {\n",
       "        vertical-align: top;\n",
       "    }\n",
       "</style>\n",
       "<table border=\"1\" class=\"dataframe\">\n",
       "  <thead>\n",
       "    <tr style=\"text-align: right;\">\n",
       "      <th></th>\n",
       "      <th>SeriousDlqin2yrs</th>\n",
       "      <th>RevolvingUtilizationOfUnsecuredLines</th>\n",
       "      <th>age</th>\n",
       "      <th>NumberOfTime30-59DaysPastDueNotWorse</th>\n",
       "      <th>DebtRatio</th>\n",
       "      <th>MonthlyIncome</th>\n",
       "      <th>NumberOfOpenCreditLinesAndLoans</th>\n",
       "      <th>NumberOfTimes90DaysLate</th>\n",
       "      <th>NumberRealEstateLoansOrLines</th>\n",
       "      <th>NumberOfTime60-89DaysPastDueNotWorse</th>\n",
       "      <th>NumberOfDependents</th>\n",
       "    </tr>\n",
       "  </thead>\n",
       "  <tbody>\n",
       "    <tr>\n",
       "      <th>1</th>\n",
       "      <td>1</td>\n",
       "      <td>0.885519</td>\n",
       "      <td>43</td>\n",
       "      <td>0</td>\n",
       "      <td>0.177513</td>\n",
       "      <td>5700.0</td>\n",
       "      <td>4</td>\n",
       "      <td>0</td>\n",
       "      <td>0</td>\n",
       "      <td>0</td>\n",
       "      <td>0.0</td>\n",
       "    </tr>\n",
       "    <tr>\n",
       "      <th>2</th>\n",
       "      <td>0</td>\n",
       "      <td>0.463295</td>\n",
       "      <td>57</td>\n",
       "      <td>0</td>\n",
       "      <td>0.527237</td>\n",
       "      <td>9141.0</td>\n",
       "      <td>15</td>\n",
       "      <td>0</td>\n",
       "      <td>4</td>\n",
       "      <td>0</td>\n",
       "      <td>2.0</td>\n",
       "    </tr>\n",
       "    <tr>\n",
       "      <th>3</th>\n",
       "      <td>0</td>\n",
       "      <td>0.043275</td>\n",
       "      <td>59</td>\n",
       "      <td>0</td>\n",
       "      <td>0.687648</td>\n",
       "      <td>5083.0</td>\n",
       "      <td>12</td>\n",
       "      <td>0</td>\n",
       "      <td>1</td>\n",
       "      <td>0</td>\n",
       "      <td>2.0</td>\n",
       "    </tr>\n",
       "    <tr>\n",
       "      <th>4</th>\n",
       "      <td>1</td>\n",
       "      <td>0.280308</td>\n",
       "      <td>38</td>\n",
       "      <td>1</td>\n",
       "      <td>0.925961</td>\n",
       "      <td>3200.0</td>\n",
       "      <td>7</td>\n",
       "      <td>0</td>\n",
       "      <td>2</td>\n",
       "      <td>0</td>\n",
       "      <td>0.0</td>\n",
       "    </tr>\n",
       "    <tr>\n",
       "      <th>5</th>\n",
       "      <td>1</td>\n",
       "      <td>1.000000</td>\n",
       "      <td>27</td>\n",
       "      <td>0</td>\n",
       "      <td>0.019917</td>\n",
       "      <td>3865.0</td>\n",
       "      <td>4</td>\n",
       "      <td>0</td>\n",
       "      <td>0</td>\n",
       "      <td>0</td>\n",
       "      <td>1.0</td>\n",
       "    </tr>\n",
       "  </tbody>\n",
       "</table>\n",
       "</div>"
      ],
      "text/plain": [
       "   SeriousDlqin2yrs  RevolvingUtilizationOfUnsecuredLines  age  \\\n",
       "1                 1                              0.885519   43   \n",
       "2                 0                              0.463295   57   \n",
       "3                 0                              0.043275   59   \n",
       "4                 1                              0.280308   38   \n",
       "5                 1                              1.000000   27   \n",
       "\n",
       "   NumberOfTime30-59DaysPastDueNotWorse  DebtRatio  MonthlyIncome  \\\n",
       "1                                     0   0.177513         5700.0   \n",
       "2                                     0   0.527237         9141.0   \n",
       "3                                     0   0.687648         5083.0   \n",
       "4                                     1   0.925961         3200.0   \n",
       "5                                     0   0.019917         3865.0   \n",
       "\n",
       "   NumberOfOpenCreditLinesAndLoans  NumberOfTimes90DaysLate  \\\n",
       "1                                4                        0   \n",
       "2                               15                        0   \n",
       "3                               12                        0   \n",
       "4                                7                        0   \n",
       "5                                4                        0   \n",
       "\n",
       "   NumberRealEstateLoansOrLines  NumberOfTime60-89DaysPastDueNotWorse  \\\n",
       "1                             0                                     0   \n",
       "2                             4                                     0   \n",
       "3                             1                                     0   \n",
       "4                             2                                     0   \n",
       "5                             0                                     0   \n",
       "\n",
       "   NumberOfDependents  \n",
       "1                 0.0  \n",
       "2                 2.0  \n",
       "3                 2.0  \n",
       "4                 0.0  \n",
       "5                 1.0  "
      ]
     },
     "metadata": {},
     "output_type": "display_data"
    }
   ],
   "source": [
    "# Predicting SeriousDlqin2yrs and adding it back to the dataset\n",
    "csTest['SeriousDlqin2yrs'] = processPrediction(csTest_proba, cutoffGBM)\n",
    "display(Markdown(\"_Table 19. Sampling first 5 rows of the recomposed test set_\"))\n",
    "display(csTest.head(5))"
   ]
  },
  {
   "cell_type": "markdown",
   "metadata": {},
   "source": [
    "---"
   ]
  }
 ],
 "metadata": {
  "anaconda-cloud": {},
  "kernelspec": {
   "display_name": "Python [conda root]",
   "language": "python",
   "name": "conda-root-py"
  },
  "language_info": {
   "codemirror_mode": {
    "name": "ipython",
    "version": 2
   },
   "file_extension": ".py",
   "mimetype": "text/x-python",
   "name": "python",
   "nbconvert_exporter": "python",
   "pygments_lexer": "ipython2",
   "version": "2.7.12"
  }
 },
 "nbformat": 4,
 "nbformat_minor": 1
}
