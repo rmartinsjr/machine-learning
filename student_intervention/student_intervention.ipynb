{
 "cells": [
  {
   "cell_type": "markdown",
   "metadata": {},
   "source": [
    "# Machine Learning Engineer Nanodegree\n",
    "## Supervised Learning\n",
    "## Project: Building a Student Intervention System"
   ]
  },
  {
   "cell_type": "markdown",
   "metadata": {},
   "source": [
    "Welcome to the second project of the Machine Learning Engineer Nanodegree! In this notebook, some template code has already been provided for you, and it will be your job to implement the additional functionality necessary to successfully complete this project. Sections that begin with **'Implementation'** in the header indicate that the following block of code will require additional functionality which you must provide. Instructions will be provided for each section and the specifics of the implementation are marked in the code block with a `'TODO'` statement. Please be sure to read the instructions carefully!\n",
    "\n",
    "In addition to implementing code, there will be questions that you must answer which relate to the project and your implementation. Each section where you will answer a question is preceded by a **'Question X'** header. Carefully read each question and provide thorough answers in the following text boxes that begin with **'Answer:'**. Your project submission will be evaluated based on your answers to each of the questions and the implementation you provide.  \n",
    "\n",
    ">**Note:** Code and Markdown cells can be executed using the **Shift + Enter** keyboard shortcut. In addition, Markdown cells can be edited by typically double-clicking the cell to enter edit mode."
   ]
  },
  {
   "cell_type": "markdown",
   "metadata": {},
   "source": [
    "### Question 1 - Classification vs. Regression\n",
    "*Your goal for this project is to identify students who might need early intervention before they fail to graduate. Which type of supervised learning problem is this, classification or regression? Why?*"
   ]
  },
  {
   "cell_type": "markdown",
   "metadata": {},
   "source": [
    "**Answer: **\n",
    "\n",
    "*The school district contracted a software engineer to create a model to predict if a student will graduate or not, so it could include this student in an early intervention program and increase the likelihood of her/his graduation. This basically means the software engineer should create a model to predict if the student will pass or fail the exams, and as such, the task is a classification problem, assigning students to either success or fail categories.*"
   ]
  },
  {
   "cell_type": "markdown",
   "metadata": {},
   "source": [
    "## Exploring the Data\n",
    "Run the code cell below to load necessary Python libraries and load the student data. Note that the last column from this dataset, `'passed'`, will be our target label (whether the student graduated or didn't graduate). All other columns are features about each student."
   ]
  },
  {
   "cell_type": "code",
   "execution_count": 1,
   "metadata": {},
   "outputs": [
    {
     "name": "stdout",
     "output_type": "stream",
     "text": [
      "Student data read successfully!\n"
     ]
    }
   ],
   "source": [
    "# Import libraries\n",
    "import numpy as np\n",
    "import pandas as pd\n",
    "from time import time\n",
    "from sklearn.metrics import f1_score\n",
    "\n",
    "# Read student data\n",
    "student_data = pd.read_csv(\"student-data.csv\")\n",
    "print \"Student data read successfully!\""
   ]
  },
  {
   "cell_type": "markdown",
   "metadata": {},
   "source": [
    "### Implementation: Data Exploration\n",
    "Let's begin by investigating the dataset to determine how many students we have information on, and learn about the graduation rate among these students. In the code cell below, you will need to compute the following:\n",
    "- The total number of students, `n_students`.\n",
    "- The total number of features for each student, `n_features`.\n",
    "- The number of those students who passed, `n_passed`.\n",
    "- The number of those students who failed, `n_failed`.\n",
    "- The graduation rate of the class, `grad_rate`, in percent (%).\n"
   ]
  },
  {
   "cell_type": "code",
   "execution_count": 2,
   "metadata": {},
   "outputs": [
    {
     "name": "stdout",
     "output_type": "stream",
     "text": [
      "Total number of students: 395\n",
      "Number of features: 31\n",
      "Number of students who passed: 265\n",
      "Number of students who failed: 130\n",
      "Graduation rate of the class: 67.09%\n"
     ]
    }
   ],
   "source": [
    "# TODO: Calculate number of students\n",
    "n_students = None\n",
    "# IMPLEMENTATION\n",
    "n_students = student_data.passed.count()\n",
    "\n",
    "# TODO: Calculate number of features\n",
    "n_features = None\n",
    "# IMPLEMENTATION\n",
    "n_features = len(student_data.columns)\n",
    "\n",
    "# TODO: Calculate passing students\n",
    "n_passed = None\n",
    "# IMPLEMENTATION\n",
    "n_passed = student_data.passed[student_data.passed == 'yes'].count()\n",
    "\n",
    "# TODO: Calculate failing students\n",
    "n_failed = None\n",
    "# IMPLEMENTATION\n",
    "n_failed = student_data.passed[student_data.passed == 'no'].count()\n",
    "\n",
    "# TODO: Calculate graduation rate\n",
    "grad_rate = None\n",
    "# IMPLEMENTATION\n",
    "grad_rate = float(n_passed) / n_students * 100\n",
    "\n",
    "# Print the results\n",
    "print \"Total number of students: {}\".format(n_students)\n",
    "print \"Number of features: {}\".format(n_features)\n",
    "print \"Number of students who passed: {}\".format(n_passed)\n",
    "print \"Number of students who failed: {}\".format(n_failed)\n",
    "print \"Graduation rate of the class: {:.2f}%\".format(grad_rate)"
   ]
  },
  {
   "cell_type": "markdown",
   "metadata": {},
   "source": [
    "## Preparing the Data\n",
    "In this section, we will prepare the data for modeling, training and testing.\n",
    "\n",
    "### Identify feature and target columns\n",
    "It is often the case that the data you obtain contains non-numeric features. This can be a problem, as most machine learning algorithms expect numeric data to perform computations with.\n",
    "\n",
    "Run the code cell below to separate the student data into feature and target columns to see if any features are non-numeric."
   ]
  },
  {
   "cell_type": "code",
   "execution_count": 3,
   "metadata": {},
   "outputs": [
    {
     "name": "stdout",
     "output_type": "stream",
     "text": [
      "Feature columns:\n",
      "['school', 'sex', 'age', 'address', 'famsize', 'Pstatus', 'Medu', 'Fedu', 'Mjob', 'Fjob', 'reason', 'guardian', 'traveltime', 'studytime', 'failures', 'schoolsup', 'famsup', 'paid', 'activities', 'nursery', 'higher', 'internet', 'romantic', 'famrel', 'freetime', 'goout', 'Dalc', 'Walc', 'health', 'absences']\n",
      "\n",
      "Target column: passed\n",
      "\n",
      "Feature values:\n",
      "  school sex  age address famsize Pstatus  Medu  Fedu     Mjob      Fjob  \\\n",
      "0     GP   F   18       U     GT3       A     4     4  at_home   teacher   \n",
      "1     GP   F   17       U     GT3       T     1     1  at_home     other   \n",
      "2     GP   F   15       U     LE3       T     1     1  at_home     other   \n",
      "3     GP   F   15       U     GT3       T     4     2   health  services   \n",
      "4     GP   F   16       U     GT3       T     3     3    other     other   \n",
      "\n",
      "    ...    higher internet  romantic  famrel  freetime goout Dalc Walc health  \\\n",
      "0   ...       yes       no        no       4         3     4    1    1      3   \n",
      "1   ...       yes      yes        no       5         3     3    1    1      3   \n",
      "2   ...       yes      yes        no       4         3     2    2    3      3   \n",
      "3   ...       yes      yes       yes       3         2     2    1    1      5   \n",
      "4   ...       yes       no        no       4         3     2    1    2      5   \n",
      "\n",
      "  absences  \n",
      "0        6  \n",
      "1        4  \n",
      "2       10  \n",
      "3        2  \n",
      "4        4  \n",
      "\n",
      "[5 rows x 30 columns]\n"
     ]
    }
   ],
   "source": [
    "# Extract feature columns\n",
    "feature_cols = list(student_data.columns[:-1])\n",
    "\n",
    "# Extract target column 'passed'\n",
    "target_col = student_data.columns[-1] \n",
    "\n",
    "# Show the list of columns\n",
    "print \"Feature columns:\\n{}\".format(feature_cols)\n",
    "print \"\\nTarget column: {}\".format(target_col)\n",
    "\n",
    "# Separate the data into feature data and target data (X_all and y_all, respectively)\n",
    "X_all = student_data[feature_cols]\n",
    "y_all = student_data[target_col]\n",
    "\n",
    "# Show the feature information by printing the first five rows\n",
    "print \"\\nFeature values:\"\n",
    "print X_all.head()"
   ]
  },
  {
   "cell_type": "markdown",
   "metadata": {},
   "source": [
    "### Preprocess Feature Columns\n",
    "\n",
    "As you can see, there are several non-numeric columns that need to be converted! Many of them are simply `yes`/`no`, e.g. `internet`. These can be reasonably converted into `1`/`0` (binary) values.\n",
    "\n",
    "Other columns, like `Mjob` and `Fjob`, have more than two values, and are known as _categorical variables_. The recommended way to handle such a column is to create as many columns as possible values (e.g. `Fjob_teacher`, `Fjob_other`, `Fjob_services`, etc.), and assign a `1` to one of them and `0` to all others.\n",
    "\n",
    "These generated columns are sometimes called _dummy variables_, and we will use the [`pandas.get_dummies()`](http://pandas.pydata.org/pandas-docs/stable/generated/pandas.get_dummies.html?highlight=get_dummies#pandas.get_dummies) function to perform this transformation. Run the code cell below to perform the preprocessing routine discussed in this section."
   ]
  },
  {
   "cell_type": "code",
   "execution_count": 4,
   "metadata": {},
   "outputs": [
    {
     "name": "stdout",
     "output_type": "stream",
     "text": [
      "Processed feature columns (48 total features):\n",
      "['school_GP', 'school_MS', 'sex_F', 'sex_M', 'age', 'address_R', 'address_U', 'famsize_GT3', 'famsize_LE3', 'Pstatus_A', 'Pstatus_T', 'Medu', 'Fedu', 'Mjob_at_home', 'Mjob_health', 'Mjob_other', 'Mjob_services', 'Mjob_teacher', 'Fjob_at_home', 'Fjob_health', 'Fjob_other', 'Fjob_services', 'Fjob_teacher', 'reason_course', 'reason_home', 'reason_other', 'reason_reputation', 'guardian_father', 'guardian_mother', 'guardian_other', 'traveltime', 'studytime', 'failures', 'schoolsup', 'famsup', 'paid', 'activities', 'nursery', 'higher', 'internet', 'romantic', 'famrel', 'freetime', 'goout', 'Dalc', 'Walc', 'health', 'absences']\n"
     ]
    }
   ],
   "source": [
    "def preprocess_features(X):\n",
    "    ''' Preprocesses the student data and converts non-numeric binary variables into\n",
    "        binary (0/1) variables. Converts categorical variables into dummy variables. '''\n",
    "    \n",
    "    # Initialize new output DataFrame\n",
    "    output = pd.DataFrame(index = X.index)\n",
    "\n",
    "    # Investigate each feature column for the data\n",
    "    for col, col_data in X.iteritems():\n",
    "        \n",
    "        # If data type is non-numeric, replace all yes/no values with 1/0\n",
    "        if col_data.dtype == object:\n",
    "            col_data = col_data.replace(['yes', 'no'], [1, 0])\n",
    "\n",
    "        # If data type is categorical, convert to dummy variables\n",
    "        if col_data.dtype == object:\n",
    "            # Example: 'school' => 'school_GP' and 'school_MS'\n",
    "            col_data = pd.get_dummies(col_data, prefix = col)  \n",
    "        \n",
    "        # Collect the revised columns\n",
    "        output = output.join(col_data)\n",
    "    \n",
    "    return output\n",
    "\n",
    "X_all = preprocess_features(X_all)\n",
    "print \"Processed feature columns ({} total features):\\n{}\".format(len(X_all.columns), list(X_all.columns))"
   ]
  },
  {
   "cell_type": "markdown",
   "metadata": {},
   "source": [
    "### Implementation: Training and Testing Data Split\n",
    "So far, we have converted all _categorical_ features into numeric values. For the next step, we split the data (both features and corresponding labels) into training and test sets. In the following code cell below, you will need to implement the following:\n",
    "- Randomly shuffle and split the data (`X_all`, `y_all`) into training and testing subsets.\n",
    "  - Use 300 training points (approximately 75%) and 95 testing points (approximately 25%).\n",
    "  - Set a `random_state` for the function(s) you use, if provided.\n",
    "  - Store the results in `X_train`, `X_test`, `y_train`, and `y_test`."
   ]
  },
  {
   "cell_type": "code",
   "execution_count": 5,
   "metadata": {},
   "outputs": [
    {
     "name": "stdout",
     "output_type": "stream",
     "text": [
      "Training set has 316 samples.\n",
      "Testing set has 79 samples.\n"
     ]
    }
   ],
   "source": [
    "# TODO: Import any additional functionality you may need here\n",
    "\n",
    "# TODO: Set the number of training points\n",
    "num_train = None\n",
    "# IMPLEMENTATION\n",
    "num_train = 0.80 * n_students\n",
    "\n",
    "# Set the number of testing points\n",
    "num_test = X_all.shape[0] - num_train\n",
    "\n",
    "# TODO: Shuffle and split the dataset into the number of training and testing points above\n",
    "X_train = None\n",
    "X_test = None\n",
    "y_train = None\n",
    "y_test = None\n",
    "# IMPLEMENTATION\n",
    "from sklearn.model_selection import train_test_split\n",
    "\n",
    "X_train, X_test, y_train, y_test = train_test_split(X_all, \n",
    "                                                    y_all,\n",
    "                                                    stratify = y_all,\n",
    "                                                    shuffle = True,\n",
    "                                                    test_size = 0.20, \n",
    "                                                    random_state = 13)\n",
    "\n",
    "# Show the results of the split\n",
    "print \"Training set has {} samples.\".format(X_train.shape[0])\n",
    "print \"Testing set has {} samples.\".format(X_test.shape[0])"
   ]
  },
  {
   "cell_type": "markdown",
   "metadata": {},
   "source": [
    "## Training and Evaluating Models\n",
    "In this section, you will choose 3 supervised learning models that are appropriate for this problem and available in `scikit-learn`. You will first discuss the reasoning behind choosing these three models by considering what you know about the data and each model's strengths and weaknesses. You will then fit the model to varying sizes of training data (100 data points, 200 data points, and 300 data points) and measure the F<sub>1</sub> score. You will need to produce three tables (one for each model) that shows the training set size, training time, prediction time, F<sub>1</sub> score on the training set, and F<sub>1</sub> score on the testing set.\n",
    "\n",
    "**The following supervised learning models are currently available in** [`scikit-learn`](http://scikit-learn.org/stable/supervised_learning.html) **that you may choose from:**\n",
    "- Gaussian Naive Bayes (GaussianNB)\n",
    "- Decision Trees\n",
    "- Ensemble Methods (Bagging, AdaBoost, Random Forest, Gradient Boosting)\n",
    "- K-Nearest Neighbors (KNeighbors)\n",
    "- Stochastic Gradient Descent (SGDC)\n",
    "- Support Vector Machines (SVM)\n",
    "- Logistic Regression"
   ]
  },
  {
   "cell_type": "markdown",
   "metadata": {},
   "source": [
    "### Question 2 - Model Application\n",
    "*List three supervised learning models that are appropriate for this problem. For each model chosen*\n",
    "- Describe one real-world application in industry where the model can be applied. *(You may need to do a small bit of research for this — give references!)* \n",
    "- What are the strengths of the model; when does it perform well? \n",
    "- What are the weaknesses of the model; when does it perform poorly?\n",
    "- What makes this model a good candidate for the problem, given what you know about the data?"
   ]
  },
  {
   "cell_type": "markdown",
   "metadata": {},
   "source": [
    "**Answer: **\n",
    "\n",
    "*According to the page [Choosing the right estimator](http://scikit-learn.org/stable/tutorial/machine_learning_map/index.html) at [scikit-learn.org](scikit-learn.org), the suggested estimators are [Linear SVC](http://scikit-learn.org/stable/modules/svm.html#classification), [KNeighbors classifier](http://scikit-learn.org/stable/modules/neighbors.html) and an ensemble method, which will be [Gradient Boosting](http://scikit-learn.org/stable/modules/ensemble.html#gradient-boosting). All three are appropriate to the size of the data set and due to their particular nature, offer different approaches to the problem.*\n",
    "\n",
    "#### LinearSVC\n",
    "\n",
    "* *Linear SVC is a support vector machine classifier with a linear kernel, which is generally used in the industry to classify text, hypertext and images. Support vector machine is a kind of machine learning algorithm that tries to classify data by finding the frontier (also known as hyperplane) that separates the data - in our case, those who fail in the exams. [2]*\n",
    "\n",
    "* *Support Vector Machines are known to be highly effective in high dimensional spaces, meaning that it can handle a great number of features and it is also memory efficient. [3]*\n",
    "\n",
    "* *This kind of model will likely over-fit when there are many more features than samples in the dataset, therefore some strategies must be in place to avoid over-fitting, like regularization and choosing/tuning properly the kernel function. [3]*\n",
    "\n",
    "* *This kind of model is a good candidate because our data set has lots of features and a lot more samples, but not enough to use stochastic gradient descent. Support Vector Machines can perform really well in small datasets.*\n",
    "\n",
    "#### KNeighborsClassifier\n",
    "\n",
    "* *KNeighborsClassifiers are used in handwritten digits and image classification. This type of classification works by consulting the dataset and assigning a label to the datapoint based on nearest neighbors, hence called instance-based learning or non-generalizing learning. [4]*\n",
    "\n",
    "* *Its strength comes from the fact that it's one of the simplest, yet powerful machine learning algorithm. As the amount of data increases to infinity, it's guaranteed that a two-class KNeighborsClassifier won't yeld an error rate worse than twice the Bayes error rate. [5]*\n",
    "\n",
    "* *KNeighborsClassifier may suffer the Curse of Dimensionality, which in KNeighbors context means that calculating the distance of the neighbors to the datapoint may be time consuming and unhelpful when there are lots of features (neighbors) in the dataset. It's also very sensitive to noise, if present in the dataset. [5]*\n",
    "\n",
    "* *KNeighborsClassifier may be a good candidate, given that students who fail may share similar characteristics and therefore, KNeighborClassifier can compare a student's features to its neighbors and classify him/her as someone who is going to pass or fail at the exams.*\n",
    "\n",
    "#### Gradient Boosting\n",
    "\n",
    "* *Gradient Boosting has been used to build ranking models for information retrieval systems, seach engines and recommender systems, to name a few of them. [6],[7]*\n",
    "\n",
    "* *As a ensemble method, one of its stregnths is using simpler, weaker learners (decision trees usually) and combine them to form strong learners iteratively and at each iteration, putting more weight on where it performed poorly.*\n",
    "\n",
    "* *Gradient Boosting is known to be harder to fine tune than other methods, but once well adjusted, GB gives good results, usually.*\n",
    "\n",
    "* *Our dataset has lots of numerical and categorical features, and as such, decision tree based algorithms like Gradient Boosting usually handle them more easily. [8]*\n",
    "\n",
    "[2]: https://en.wikipedia.org/wiki/Support_vector_machine \"Support Vector Machine\"\n",
    "[3]: http://scikit-learn.org/stable/modules/svm.html#classification \"SVM Classification\"\n",
    "[4]: http://scikit-learn.org/stable/modules/neighbors.html \"Nearest Neighbors\"\n",
    "[5]: https://en.wikipedia.org/wiki/K-nearest_neighbors_algorithm \"K-nearest neighbors algorithm\"\n",
    "[6]: https://en.wikipedia.org/wiki/Gradient_boosting \"Gradient Boosting\"\n",
    "[7]: https://en.wikipedia.org/wiki/Learning_to_rank \"Learning to rank\"\n",
    "[8]: https://en.wikipedia.org/wiki/Supervised_learning#Other_factors_to_consider_.28important.29 \"Supervised Learning\""
   ]
  },
  {
   "cell_type": "markdown",
   "metadata": {},
   "source": [
    "### Setup\n",
    "Run the code cell below to initialize three helper functions which you can use for training and testing the three supervised learning models you've chosen above. The functions are as follows:\n",
    "- `train_classifier` - takes as input a classifier and training data and fits the classifier to the data.\n",
    "- `predict_labels` - takes as input a fit classifier, features, and a target labeling and makes predictions using the F<sub>1</sub> score.\n",
    "- `train_predict` - takes as input a classifier, and the training and testing data, and performs `train_clasifier` and `predict_labels`.\n",
    " - This function will report the F<sub>1</sub> score for both the training and testing data separately."
   ]
  },
  {
   "cell_type": "code",
   "execution_count": 6,
   "metadata": {
    "collapsed": true
   },
   "outputs": [],
   "source": [
    "def train_classifier(clf, X_train, y_train):\n",
    "    ''' Fits a classifier to the training data. '''\n",
    "    \n",
    "    # Start the clock, train the classifier, then stop the clock\n",
    "    start = time()\n",
    "    clf.fit(X_train, y_train)\n",
    "    end = time()\n",
    "    \n",
    "    # Print the results\n",
    "    print \"Trained model in {:.4f} seconds\".format(end - start)\n",
    "\n",
    "\n",
    "def predict_labels(clf, features, target):\n",
    "    ''' Makes predictions using a fit classifier based on F1 score. '''\n",
    "    \n",
    "    # Start the clock, make predictions, then stop the clock\n",
    "    start = time()\n",
    "    y_pred = clf.predict(features)\n",
    "    end = time()\n",
    "    \n",
    "    # Print and return results\n",
    "    print \"Made predictions in {:.4f} seconds.\".format(end - start)\n",
    "    return f1_score(target.values, y_pred, pos_label='yes')\n",
    "\n",
    "\n",
    "def train_predict(clf, X_train, y_train, X_test, y_test):\n",
    "    ''' Train and predict using a classifer based on F1 score. '''\n",
    "    \n",
    "    # Indicate the classifier and the training set size\n",
    "    print \"Training a {} using a training set size of {}. . .\".format(clf.__class__.__name__, len(X_train))\n",
    "    \n",
    "    # Train the classifier\n",
    "    train_classifier(clf, X_train, y_train)\n",
    "    \n",
    "    # Print the results of prediction for both training and testing\n",
    "    print \"F1 score for training set: {:.4f}.\".format(predict_labels(clf, X_train, y_train))\n",
    "    print \"F1 score for test set: {:.4f}.\".format(predict_labels(clf, X_test, y_test))"
   ]
  },
  {
   "cell_type": "markdown",
   "metadata": {},
   "source": [
    "### Implementation: Model Performance Metrics\n",
    "With the predefined functions above, you will now import the three supervised learning models of your choice and run the `train_predict` function for each one. Remember that you will need to train and predict on each classifier for three different training set sizes: 100, 200, and 300. Hence, you should expect to have 9 different outputs below — 3 for each model using the varying training set sizes. In the following code cell, you will need to implement the following:\n",
    "- Import the three supervised learning models you've discussed in the previous section.\n",
    "- Initialize the three models and store them in `clf_A`, `clf_B`, and `clf_C`.\n",
    " - Use a `random_state` for each model you use, if provided.\n",
    " - **Note:** Use the default settings for each model — you will tune one specific model in a later section.\n",
    "- Create the different training set sizes to be used to train each model.\n",
    " - *Do not reshuffle and resplit the data! The new training points should be drawn from `X_train` and `y_train`.*\n",
    "- Fit each model with each training set size and make predictions on the test set (9 in total).  \n",
    "**Note:** Three tables are provided after the following code cell which can be used to store your results."
   ]
  },
  {
   "cell_type": "code",
   "execution_count": 21,
   "metadata": {},
   "outputs": [
    {
     "name": "stdout",
     "output_type": "stream",
     "text": [
      "Training a GradientBoostingClassifier using a training set size of 100. . .\n",
      "Trained model in 0.1135 seconds\n",
      "Made predictions in 0.0010 seconds.\n",
      "F1 score for training set: 1.0000.\n",
      "Made predictions in 0.0008 seconds.\n",
      "F1 score for test set: 0.8288.\n",
      "Training a GradientBoostingClassifier using a training set size of 200. . .\n",
      "Trained model in 0.1622 seconds\n",
      "Made predictions in 0.0015 seconds.\n",
      "F1 score for training set: 0.9922.\n",
      "Made predictions in 0.0007 seconds.\n",
      "F1 score for test set: 0.8596.\n",
      "Training a GradientBoostingClassifier using a training set size of 300. . .\n",
      "Trained model in 0.1584 seconds\n",
      "Made predictions in 0.0016 seconds.\n",
      "F1 score for training set: 0.9782.\n",
      "Made predictions in 0.0008 seconds.\n",
      "F1 score for test set: 0.7788.\n"
     ]
    }
   ],
   "source": [
    "# TODO: Import the three supervised learning models from sklearn\n",
    "# from sklearn import model_A\n",
    "# from sklearn import model_B\n",
    "# from sklearn import model_C\n",
    "# IMPLEMENTATION\n",
    "from sklearn.svm import LinearSVC\n",
    "from sklearn.neighbors import KNeighborsClassifier\n",
    "from sklearn.ensemble import GradientBoostingClassifier\n",
    "\n",
    "# TODO: Initialize the three models\n",
    "clf_A = None\n",
    "clf_B = None\n",
    "clf_C = None\n",
    "# IMPLEMENTATION\n",
    "clf_A = LinearSVC(random_state = 13)\n",
    "clf_B = KNeighborsClassifier()\n",
    "clf_C = GradientBoostingClassifier(random_state = 13)\n",
    "\n",
    "# TODO: Set up the training set sizes\n",
    "X_train_100 = None\n",
    "y_train_100 = None\n",
    "\n",
    "X_train_200 = None\n",
    "y_train_200 = None\n",
    "\n",
    "X_train_300 = None\n",
    "y_train_300 = None\n",
    "# IMPLEMENTATION\n",
    "X_train_100 = X_train[:100]\n",
    "y_train_100 = y_train[:100]\n",
    "\n",
    "X_train_200 = X_train[:200]\n",
    "y_train_200 = y_train[:200]\n",
    "\n",
    "X_train_300 = X_train[:300]\n",
    "y_train_300 = y_train[:300]\n",
    "\n",
    "# TODO: Execute the 'train_predict' function for each classifier and each training set size\n",
    "# train_predict(clf, X_train, y_train, X_test, y_test)\n",
    "# IMPLEMENTATION\n",
    "#train_predict(clf_A, X_train_100, y_train_100, X_test, y_test)\n",
    "#train_predict(clf_A, X_train_200, y_train_200, X_test, y_test)\n",
    "#train_predict(clf_A, X_train_300, y_train_300, X_test, y_test)\n",
    "#train_predict(clf_B, X_train_100, y_train_100, X_test, y_test)\n",
    "#train_predict(clf_B, X_train_200, y_train_200, X_test, y_test)\n",
    "#train_predict(clf_B, X_train_300, y_train_300, X_test, y_test)\n",
    "train_predict(clf_C, X_train_100, y_train_100, X_test, y_test)\n",
    "train_predict(clf_C, X_train_200, y_train_200, X_test, y_test)\n",
    "train_predict(clf_C, X_train_300, y_train_300, X_test, y_test)"
   ]
  },
  {
   "cell_type": "markdown",
   "metadata": {},
   "source": [
    "### Tabular Results\n",
    "Edit the cell below to see how a table can be designed in [Markdown](https://github.com/adam-p/markdown-here/wiki/Markdown-Cheatsheet#tables). You can record your results from above in the tables provided."
   ]
  },
  {
   "cell_type": "markdown",
   "metadata": {},
   "source": [
    "** Classifer 1 - LinearSVC**  \n",
    "\n",
    "| Training Set Size | Training Time | Prediction Time (test) | F1 Score (train) | F1 Score (test) |\n",
    "| :---------------: | :-----------: | :--------------------: | :--------------: | :-------------: |\n",
    "| 100               | 0.0166        | 0.0008                 | 0.9265           | 0.8000          |\n",
    "| 200               | 0.0417        | 0.0005                 | 0.8655           | 0.8000          |\n",
    "| 300               | 0.0500        | 0.0010                 | 0.7335           | 0.6437          |\n",
    "\n",
    "** Classifer 2 - KNeighborsClassifier**  \n",
    "\n",
    "| Training Set Size | Training Time | Prediction Time (test) | F1 Score (train) | F1 Score (test) |\n",
    "| :---------------: | :-----------: | :--------------------: | :--------------: | :-------------: |\n",
    "| 100               | 0.0012        | 0.0020                 | 0.8000           | 0.8475          |\n",
    "| 200               | 0.0013        | 0.0026                 | 0.8132           | 0.7899          |\n",
    "| 300               | 0.0016        | 0.0028                 | 0.8643           | 0.8500          |\n",
    "\n",
    "** Classifer 3 - GradientBoostingClassifier**  \n",
    "\n",
    "| Training Set Size | Training Time | Prediction Time (test) | F1 Score (train) | F1 Score (test) |\n",
    "| :---------------: | :-----------: | :--------------------: | :--------------: | :-------------: |\n",
    "| 100               | 0.1677        | 0.0007                 | 1.0000           | 0.8288          |\n",
    "| 200               | 0.2182        | 0.0008                 | 0.9922           | 0.8596          |\n",
    "| 300               | 0.1571        | 0.0011                 | 0.9782           | 0.7788          |"
   ]
  },
  {
   "cell_type": "markdown",
   "metadata": {},
   "source": [
    "## Choosing the Best Model\n",
    "In this final section, you will choose from the three supervised learning models the *best* model to use on the student data. You will then perform a grid search optimization for the model over the entire training set (`X_train` and `y_train`) by tuning at least one parameter to improve upon the untuned model's F<sub>1</sub> score. "
   ]
  },
  {
   "cell_type": "markdown",
   "metadata": {},
   "source": [
    "### Question 3 - Choosing the Best Model\n",
    "*Based on the experiments you performed earlier, in one to two paragraphs, explain to the board of supervisors what single model you chose as the best model. Which model is generally the most appropriate based on the available data, limited resources, cost, and performance?*"
   ]
  },
  {
   "cell_type": "markdown",
   "metadata": {},
   "source": [
    "**Answer: **\n",
    "\n",
    "*The recommended model based on the experiments is KNeighborsClassifier. The experiment evaluated the performance of candidate models against different sizes of the dataset, and as the dataset size increased, KNeighborsClassifier was the only model that had kept its score improving.*\n",
    "\n",
    "*Additionally, considering a sceneario of limited resources, KNeighborsClassifier is one of fastest model to train while delivering a quite good performance.*\n",
    "\n"
   ]
  },
  {
   "cell_type": "markdown",
   "metadata": {},
   "source": [
    "### Question 4 - Model in Layman's Terms\n",
    "*In one to two paragraphs, explain to the board of directors in layman's terms how the final model chosen is supposed to work. Be sure that you are describing the major qualities of the model, such as how the model is trained and how the model makes a prediction. Avoid using advanced mathematical or technical jargon, such as describing equations or discussing the algorithm implementation.*"
   ]
  },
  {
   "cell_type": "markdown",
   "metadata": {},
   "source": [
    "**Answer: **\n",
    "\n",
    "*KNeighborsClassifier is a type of classification called instance-based learning, which means it stores instances (student information) of the original dataset. This particular process is called training and this type of classification algorithm performs the training process really fast because it will simply store the information.*\n",
    "\n",
    "*When it's time to predict, or query, if a student will pass or fail, the model uses the stored instances to compute the classification of the queried student. The success or failure of the queried student is then based on the closest and most representative students (neighbors) to the student in question. In layman's terms, it is the mathematical approach to 'a man is known by the company he keeps'.*\n"
   ]
  },
  {
   "cell_type": "markdown",
   "metadata": {},
   "source": [
    "### Implementation: Model Tuning\n",
    "Fine tune the chosen model. Use grid search (`GridSearchCV`) with at least one important parameter tuned with at least 3 different values. You will need to use the entire training set for this. In the code cell below, you will need to implement the following:\n",
    "- Import [`sklearn.grid_search.GridSearchCV`](http://scikit-learn.org/0.17/modules/generated/sklearn.grid_search.GridSearchCV.html) and [`sklearn.metrics.make_scorer`](http://scikit-learn.org/stable/modules/generated/sklearn.metrics.make_scorer.html).\n",
    "- Create a dictionary of parameters you wish to tune for the chosen model.\n",
    " - Example: `parameters = {'parameter' : [list of values]}`.\n",
    "- Initialize the classifier you've chosen and store it in `clf`.\n",
    "- Create the F<sub>1</sub> scoring function using `make_scorer` and store it in `f1_scorer`.\n",
    " - Set the `pos_label` parameter to the correct value!\n",
    "- Perform grid search on the classifier `clf` using `f1_scorer` as the scoring method, and store it in `grid_obj`.\n",
    "- Fit the grid search object to the training data (`X_train`, `y_train`), and store it in `grid_obj`."
   ]
  },
  {
   "cell_type": "code",
   "execution_count": 9,
   "metadata": {},
   "outputs": [
    {
     "name": "stdout",
     "output_type": "stream",
     "text": [
      "Made predictions in 0.1536 seconds.\n",
      "Tuned model has a training F1 score of 0.8187.\n",
      "Made predictions in 0.1626 seconds.\n",
      "Tuned model has a testing F1 score of 0.8154.\n",
      "Best parameters: {'n_neighbors': 30, 'weights': 'uniform', 'leaf_size': 5, 'algorithm': 'ball_tree', 'p': 1}\n"
     ]
    }
   ],
   "source": [
    "# TODO: Import 'GridSearchCV' and 'make_scorer'\n",
    "# IMPLEMENTATION:\n",
    "from sklearn.model_selection import GridSearchCV\n",
    "from sklearn.metrics import f1_score, make_scorer\n",
    "\n",
    "# TODO: Create the parameters list you wish to tune\n",
    "parameters = None\n",
    "# IMPLEMENTATION\n",
    "parameters = {'n_neighbors': [5, 10, 15, 30, 45],\n",
    "              'weights': ['uniform', 'distance'],\n",
    "              'algorithm': ['ball_tree', 'kd_tree', 'brute'],\n",
    "              'leaf_size': [5, 10, 15, 30, 45],\n",
    "              'p': [1, 2]}\n",
    "\n",
    "# TODO: Initialize the classifier\n",
    "clf = None\n",
    "# IMPLEMENTATION\n",
    "clf = KNeighborsClassifier()\n",
    "\n",
    "# TODO: Make an f1 scoring function using 'make_scorer' \n",
    "f1_scorer = None\n",
    "# IMPLEMENATION\n",
    "f1_scorer = make_scorer(f1_score, pos_label = \"yes\")\n",
    "\n",
    "# TODO: Perform grid search on the classifier using the f1_scorer as the scoring method\n",
    "grid_obj = None\n",
    "# IMPLEMENTATION:\n",
    "grid_obj = GridSearchCV(clf, parameters, scoring = f1_scorer)\n",
    "\n",
    "# TODO: Fit the grid search object to the training data and find the optimal parameters\n",
    "#grid_obj = None\n",
    "# IMPLEMENTATION\n",
    "grid_obj = grid_obj.fit(X_train, y_train)\n",
    "\n",
    "# Get the estimator\n",
    "clf = grid_obj.best_estimator_\n",
    "\n",
    "# Report the final F1 score for training and testing after parameter tuning\n",
    "print \"Tuned model has a training F1 score of {:.4f}.\".format(predict_labels(clf, X_train, y_train))\n",
    "print \"Tuned model has a testing F1 score of {:.4f}.\".format(predict_labels(clf, X_test, y_test))\n",
    "print \"Best parameters: {}\".format(grid_obj.best_params_)"
   ]
  },
  {
   "cell_type": "markdown",
   "metadata": {},
   "source": [
    "### Question 5 - Final F<sub>1</sub> Score\n",
    "*What is the final model's F<sub>1</sub> score for training and testing? How does that score compare to the untuned model?*"
   ]
  },
  {
   "cell_type": "markdown",
   "metadata": {},
   "source": [
    "**Answer: **\n",
    "\n",
    "*The final model's F1 scores are 0.8187 and 0.8154, training and testing respectively. The tuned model's F1 scores are slightly lower than the untuned one but still the best F1 score when compared to the others' F1 scores, which where computed for models trained with 300 data points.*\n",
    "\n",
    "*This variation is probably due to the added data points when fitting the model, which provides new points to the neighborhood of the student whose success or failure is being predicted.*\n"
   ]
  },
  {
   "cell_type": "markdown",
   "metadata": {},
   "source": [
    "> **Note**: Once you have completed all of the code implementations and successfully answered each question above, you may finalize your work by exporting the iPython Notebook as an HTML document. You can do this by using the menu above and navigating to  \n",
    "**File -> Download as -> HTML (.html)**. Include the finished document along with this notebook as your submission."
   ]
  }
 ],
 "metadata": {
  "anaconda-cloud": {},
  "kernelspec": {
   "display_name": "Python [default]",
   "language": "python",
   "name": "python2"
  },
  "language_info": {
   "codemirror_mode": {
    "name": "ipython",
    "version": 2
   },
   "file_extension": ".py",
   "mimetype": "text/x-python",
   "name": "python",
   "nbconvert_exporter": "python",
   "pygments_lexer": "ipython2",
   "version": "2.7.12"
  }
 },
 "nbformat": 4,
 "nbformat_minor": 1
}
